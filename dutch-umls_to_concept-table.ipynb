{
 "cells": [
  {
   "cell_type": "markdown",
   "id": "adapted-kennedy",
   "metadata": {},
   "source": [
    "# Dutch UMLS to concept table\n",
    "This notebook describes how to convert a UMLS concept table containing Dutch terms, to a formatted concept table to be used in a tool such as MedCAT. In the second part of this notebook, we add drug names from Dutch SNOMED, because these concepts are not well represented in the Dutch UMLS source vocabularies. A large scale automatic mapping from SNOMED Dutch to UMLS is not possible because there of many-to-mapping mapping.\n",
    "\n",
    "Requirements:\n",
    "- MySQL database containing Dutch UMLS terms\n",
    "\n",
    "For adding Dutch SNOMED drug names:\n",
    "- Dutch SNOMED concept table\n",
    "- MySQL database containing SNOMED-US, which is used for mapping SNOMED Dutch -> UMLS"
   ]
  },
  {
   "cell_type": "code",
   "execution_count": 1,
   "id": "indirect-brown",
   "metadata": {},
   "outputs": [],
   "source": [
    "from sqlalchemy import create_engine\n",
    "import pandas as pd\n",
    "import numpy as np\n",
    "import json\n",
    "import re\n",
    "import os"
   ]
  },
  {
   "cell_type": "code",
   "execution_count": 7,
   "id": "christian-wrong",
   "metadata": {},
   "outputs": [],
   "source": [
    "# Credentials to connect to UMLS MySQL database\n",
    "host = '127.0.0.1'\n",
    "username = 'root'\n",
    "password = 'test'\n",
    "port='3306'\n",
    "database = 'umls'\n",
    "\n",
    "# Create the connection\n",
    "connection_string = f'mysql://{username}:{password}@{host}:{port}/{database}'\n",
    "connection = create_engine(connection_string)"
   ]
  },
  {
   "cell_type": "code",
   "execution_count": 8,
   "id": "verified-preliminary",
   "metadata": {},
   "outputs": [
    {
     "data": {
      "text/html": [
       "<div>\n",
       "<style scoped>\n",
       "    .dataframe tbody tr th:only-of-type {\n",
       "        vertical-align: middle;\n",
       "    }\n",
       "\n",
       "    .dataframe tbody tr th {\n",
       "        vertical-align: top;\n",
       "    }\n",
       "\n",
       "    .dataframe thead th {\n",
       "        text-align: right;\n",
       "    }\n",
       "</style>\n",
       "<table border=\"1\" class=\"dataframe\">\n",
       "  <thead>\n",
       "    <tr style=\"text-align: right;\">\n",
       "      <th></th>\n",
       "      <th>CUI</th>\n",
       "      <th>LAT</th>\n",
       "      <th>TS</th>\n",
       "      <th>LUI</th>\n",
       "      <th>STT</th>\n",
       "      <th>SUI</th>\n",
       "      <th>ISPREF</th>\n",
       "      <th>AUI</th>\n",
       "      <th>SAUI</th>\n",
       "      <th>SCUI</th>\n",
       "      <th>SDUI</th>\n",
       "      <th>SAB</th>\n",
       "      <th>TTY</th>\n",
       "      <th>CODE</th>\n",
       "      <th>STR</th>\n",
       "      <th>SRL</th>\n",
       "      <th>SUPPRESS</th>\n",
       "      <th>CVF</th>\n",
       "    </tr>\n",
       "  </thead>\n",
       "  <tbody>\n",
       "    <tr>\n",
       "      <th>0</th>\n",
       "      <td>C0030271</td>\n",
       "      <td>DUT</td>\n",
       "      <td>S</td>\n",
       "      <td>L2070920</td>\n",
       "      <td>PF</td>\n",
       "      <td>S2409142</td>\n",
       "      <td>N</td>\n",
       "      <td>A10134406</td>\n",
       "      <td>None</td>\n",
       "      <td>None</td>\n",
       "      <td>10065249</td>\n",
       "      <td>MDRDUT</td>\n",
       "      <td>PT</td>\n",
       "      <td>10065249</td>\n",
       "      <td>Pancoast-syndroom</td>\n",
       "      <td>3</td>\n",
       "      <td>N</td>\n",
       "      <td>None</td>\n",
       "    </tr>\n",
       "    <tr>\n",
       "      <th>1</th>\n",
       "      <td>C0238106</td>\n",
       "      <td>DUT</td>\n",
       "      <td>P</td>\n",
       "      <td>L4955608</td>\n",
       "      <td>PF</td>\n",
       "      <td>S5643112</td>\n",
       "      <td>Y</td>\n",
       "      <td>A10134408</td>\n",
       "      <td>None</td>\n",
       "      <td>None</td>\n",
       "      <td>10009657</td>\n",
       "      <td>MDRDUT</td>\n",
       "      <td>PT</td>\n",
       "      <td>10009657</td>\n",
       "      <td>Clostridium difficile-colitis</td>\n",
       "      <td>3</td>\n",
       "      <td>N</td>\n",
       "      <td>None</td>\n",
       "    </tr>\n",
       "    <tr>\n",
       "      <th>2</th>\n",
       "      <td>C0851107</td>\n",
       "      <td>DUT</td>\n",
       "      <td>P</td>\n",
       "      <td>L4955853</td>\n",
       "      <td>PF</td>\n",
       "      <td>S5643358</td>\n",
       "      <td>Y</td>\n",
       "      <td>A10134409</td>\n",
       "      <td>None</td>\n",
       "      <td>None</td>\n",
       "      <td>10050681</td>\n",
       "      <td>MDRDUT</td>\n",
       "      <td>PT</td>\n",
       "      <td>10050681</td>\n",
       "      <td>Epstein-Barr-virustest</td>\n",
       "      <td>3</td>\n",
       "      <td>N</td>\n",
       "      <td>None</td>\n",
       "    </tr>\n",
       "    <tr>\n",
       "      <th>3</th>\n",
       "      <td>C0035232</td>\n",
       "      <td>DUT</td>\n",
       "      <td>S</td>\n",
       "      <td>L4958848</td>\n",
       "      <td>PF</td>\n",
       "      <td>S5646353</td>\n",
       "      <td>Y</td>\n",
       "      <td>A10134412</td>\n",
       "      <td>None</td>\n",
       "      <td>None</td>\n",
       "      <td>10038708</td>\n",
       "      <td>MDRDUT</td>\n",
       "      <td>PT</td>\n",
       "      <td>10038708</td>\n",
       "      <td>ademhalingsverlamming</td>\n",
       "      <td>3</td>\n",
       "      <td>N</td>\n",
       "      <td>None</td>\n",
       "    </tr>\n",
       "    <tr>\n",
       "      <th>4</th>\n",
       "      <td>C0400161</td>\n",
       "      <td>DUT</td>\n",
       "      <td>P</td>\n",
       "      <td>L4959926</td>\n",
       "      <td>PF</td>\n",
       "      <td>S5647430</td>\n",
       "      <td>Y</td>\n",
       "      <td>A10134414</td>\n",
       "      <td>None</td>\n",
       "      <td>None</td>\n",
       "      <td>10002169</td>\n",
       "      <td>MDRDUT</td>\n",
       "      <td>PT</td>\n",
       "      <td>10002169</td>\n",
       "      <td>anale poliepectomie</td>\n",
       "      <td>3</td>\n",
       "      <td>N</td>\n",
       "      <td>None</td>\n",
       "    </tr>\n",
       "  </tbody>\n",
       "</table>\n",
       "</div>"
      ],
      "text/plain": [
       "        CUI  LAT TS       LUI STT       SUI ISPREF        AUI  SAUI  SCUI  \\\n",
       "0  C0030271  DUT  S  L2070920  PF  S2409142      N  A10134406  None  None   \n",
       "1  C0238106  DUT  P  L4955608  PF  S5643112      Y  A10134408  None  None   \n",
       "2  C0851107  DUT  P  L4955853  PF  S5643358      Y  A10134409  None  None   \n",
       "3  C0035232  DUT  S  L4958848  PF  S5646353      Y  A10134412  None  None   \n",
       "4  C0400161  DUT  P  L4959926  PF  S5647430      Y  A10134414  None  None   \n",
       "\n",
       "       SDUI     SAB TTY      CODE                            STR  SRL  \\\n",
       "0  10065249  MDRDUT  PT  10065249              Pancoast-syndroom    3   \n",
       "1  10009657  MDRDUT  PT  10009657  Clostridium difficile-colitis    3   \n",
       "2  10050681  MDRDUT  PT  10050681         Epstein-Barr-virustest    3   \n",
       "3  10038708  MDRDUT  PT  10038708          ademhalingsverlamming    3   \n",
       "4  10002169  MDRDUT  PT  10002169            anale poliepectomie    3   \n",
       "\n",
       "  SUPPRESS   CVF  \n",
       "0        N  None  \n",
       "1        N  None  \n",
       "2        N  None  \n",
       "3        N  None  \n",
       "4        N  None  "
      ]
     },
     "execution_count": 8,
     "metadata": {},
     "output_type": "execute_result"
    }
   ],
   "source": [
    "# Retrieve Dutch UMLS concepts\n",
    "query = \"\"\"\n",
    "SELECT *\n",
    "FROM umls.mrconso WHERE lat = 'DUT'\n",
    "\"\"\"\n",
    "df_dutch_umls = pd.read_sql_query(query, con=connection)\n",
    "df_dutch_umls.head()"
   ]
  },
  {
   "cell_type": "markdown",
   "id": "radical-killer",
   "metadata": {},
   "source": [
    "## Term type in source\n",
    "Some source-defined term types are not relevant for our use case. In the next part we will drop those. See https://www.nlm.nih.gov/research/umls/knowledge_sources/metathesaurus/release/abbreviations.html "
   ]
  },
  {
   "cell_type": "code",
   "execution_count": 9,
   "id": "arabic-syndicate",
   "metadata": {},
   "outputs": [
    {
     "data": {
      "text/plain": [
       "PT     111766\n",
       "LLT     71603\n",
       "LN      52313\n",
       "MH      28657\n",
       "SY      11863\n",
       "OL       9291\n",
       "HT       3295\n",
       "LO       1696\n",
       "HG        337\n",
       "SMQ       225\n",
       "CP         38\n",
       "OS         27\n",
       "AB         27\n",
       "Name: TTY, dtype: int64"
      ]
     },
     "execution_count": 9,
     "metadata": {},
     "output_type": "execute_result"
    }
   ],
   "source": [
    "df_dutch_umls.TTY.value_counts()"
   ]
  },
  {
   "cell_type": "markdown",
   "id": "colonial-morning",
   "metadata": {},
   "source": [
    "| TTY  | Description | Count | Example | Reference|\n",
    "| - | - | - | - | - |\n",
    "| PT | Designated preferred name| 111766 | harthypertrofie, Pancoast-syndroom ||\n",
    "| LLT | Lower Level Term | 71603 | heupkombreuk, buikkramp| |\n",
    "| LN | LOINC official fully specified name | 52313 | fencyclidine:massa/massa:moment:haar:kwantitatief | |\n",
    "| MH | Main heading | 28657 | Dehydratie, Astma | |\n",
    "| SY | Designated synonym | 11863 | Spanningshoofdpijn, Ziekte van Hodgkin | |\n",
    "| OL | Non-current Lower Level Term| 9291 | acquired immunodeficiency syndrome, ankylose van gewricht, meerdere plaatsen | https://meddra.org/sites/default/files/page/documents_insert/meddra_-_terminologies_coding.pdf |\n",
    "| HT | Hierarchical term | 3295 | calciummetabolismestoornissen, oculaire hemorragische aandoeningen\t | |\n",
    "| LO | Obsolete official fully specified name | 1696| promyelocyten/100 leukocyten:getalsfractie:mom...\t| |\n",
    "| HG | High Level Group Term |  337| complicaties geassocieerd met medisch hulpmiddel, zuur-basestoornissen | |\n",
    "| SMQ| Standardised MedDRA Query |  225| Leveraandoeningen (SMQ) , Tumormarkers (SMQ) | |\n",
    "| CP | ICPC component process (in original form) |   38| Ander bloedonderzoek, Medicatie/recept/injectie | |\n",
    "| OS | System-organ class |   27| Bloed- en lymfestelselaandoeningen, Infecties en parasitaire aandoeningen | |\n",
    "| AB | Abbreviation in any source vocabulary |   27| Infec, Neopl, Ear, Endo | |"
   ]
  },
  {
   "cell_type": "code",
   "execution_count": 10,
   "id": "stupid-moore",
   "metadata": {},
   "outputs": [
    {
     "name": "stdout",
     "output_type": "stream",
     "text": [
      "Records before dropping duplicates: 223889\n",
      "Records after dropping duplicates: 186294\n"
     ]
    },
    {
     "data": {
      "text/html": [
       "<div>\n",
       "<style scoped>\n",
       "    .dataframe tbody tr th:only-of-type {\n",
       "        vertical-align: middle;\n",
       "    }\n",
       "\n",
       "    .dataframe tbody tr th {\n",
       "        vertical-align: top;\n",
       "    }\n",
       "\n",
       "    .dataframe thead th {\n",
       "        text-align: right;\n",
       "    }\n",
       "</style>\n",
       "<table border=\"1\" class=\"dataframe\">\n",
       "  <thead>\n",
       "    <tr style=\"text-align: right;\">\n",
       "      <th></th>\n",
       "      <th>cui</th>\n",
       "      <th>str</th>\n",
       "      <th>tty</th>\n",
       "      <th>sab</th>\n",
       "    </tr>\n",
       "  </thead>\n",
       "  <tbody>\n",
       "    <tr>\n",
       "      <th>0</th>\n",
       "      <td>C0000696</td>\n",
       "      <td>A-zenuwvezels</td>\n",
       "      <td>SY</td>\n",
       "      <td>UMLS-dutch</td>\n",
       "    </tr>\n",
       "    <tr>\n",
       "      <th>1</th>\n",
       "      <td>C0000715</td>\n",
       "      <td>Abattoir</td>\n",
       "      <td>SY</td>\n",
       "      <td>UMLS-dutch</td>\n",
       "    </tr>\n",
       "    <tr>\n",
       "      <th>2</th>\n",
       "      <td>C0000715</td>\n",
       "      <td>Abattoirs</td>\n",
       "      <td>SY</td>\n",
       "      <td>UMLS-dutch</td>\n",
       "    </tr>\n",
       "    <tr>\n",
       "      <th>3</th>\n",
       "      <td>C0000722</td>\n",
       "      <td>Abbreviated Injury Scale</td>\n",
       "      <td>SY</td>\n",
       "      <td>UMLS-dutch</td>\n",
       "    </tr>\n",
       "    <tr>\n",
       "      <th>4</th>\n",
       "      <td>C0000726</td>\n",
       "      <td>Abdomen</td>\n",
       "      <td>SY</td>\n",
       "      <td>UMLS-dutch</td>\n",
       "    </tr>\n",
       "    <tr>\n",
       "      <th>5</th>\n",
       "      <td>C0000726</td>\n",
       "      <td>Buik</td>\n",
       "      <td>SY</td>\n",
       "      <td>UMLS-dutch</td>\n",
       "    </tr>\n",
       "    <tr>\n",
       "      <th>6</th>\n",
       "      <td>C0000727</td>\n",
       "      <td>Acute buik</td>\n",
       "      <td>PN</td>\n",
       "      <td>UMLS-dutch</td>\n",
       "    </tr>\n",
       "    <tr>\n",
       "      <th>7</th>\n",
       "      <td>C0000727</td>\n",
       "      <td>abdomen; acute buik</td>\n",
       "      <td>PN</td>\n",
       "      <td>UMLS-dutch</td>\n",
       "    </tr>\n",
       "    <tr>\n",
       "      <th>8</th>\n",
       "      <td>C0000727</td>\n",
       "      <td>abdominaal; syndroom, acuut</td>\n",
       "      <td>PN</td>\n",
       "      <td>UMLS-dutch</td>\n",
       "    </tr>\n",
       "    <tr>\n",
       "      <th>9</th>\n",
       "      <td>C0000727</td>\n",
       "      <td>acuut abdomen</td>\n",
       "      <td>PN</td>\n",
       "      <td>UMLS-dutch</td>\n",
       "    </tr>\n",
       "    <tr>\n",
       "      <th>10</th>\n",
       "      <td>C0000727</td>\n",
       "      <td>acuut; abdominaal syndroom</td>\n",
       "      <td>PN</td>\n",
       "      <td>UMLS-dutch</td>\n",
       "    </tr>\n",
       "    <tr>\n",
       "      <th>11</th>\n",
       "      <td>C0000727</td>\n",
       "      <td>acuut; buik</td>\n",
       "      <td>PN</td>\n",
       "      <td>UMLS-dutch</td>\n",
       "    </tr>\n",
       "    <tr>\n",
       "      <th>12</th>\n",
       "      <td>C0000727</td>\n",
       "      <td>buik; acuut</td>\n",
       "      <td>PN</td>\n",
       "      <td>UMLS-dutch</td>\n",
       "    </tr>\n",
       "    <tr>\n",
       "      <th>13</th>\n",
       "      <td>C0000727</td>\n",
       "      <td>buik; pijn, algemeen, acute buik</td>\n",
       "      <td>PN</td>\n",
       "      <td>UMLS-dutch</td>\n",
       "    </tr>\n",
       "    <tr>\n",
       "      <th>14</th>\n",
       "      <td>C0000727</td>\n",
       "      <td>pijn; buik, algemeen, acute buik</td>\n",
       "      <td>PN</td>\n",
       "      <td>UMLS-dutch</td>\n",
       "    </tr>\n",
       "    <tr>\n",
       "      <th>15</th>\n",
       "      <td>C0000727</td>\n",
       "      <td>syndroom; abdominaal, acuut</td>\n",
       "      <td>PN</td>\n",
       "      <td>UMLS-dutch</td>\n",
       "    </tr>\n",
       "    <tr>\n",
       "      <th>16</th>\n",
       "      <td>C0000727</td>\n",
       "      <td>syndroom; acuut abdominaal</td>\n",
       "      <td>PN</td>\n",
       "      <td>UMLS-dutch</td>\n",
       "    </tr>\n",
       "    <tr>\n",
       "      <th>17</th>\n",
       "      <td>C0000727</td>\n",
       "      <td>Buik, acute</td>\n",
       "      <td>SY</td>\n",
       "      <td>UMLS-dutch</td>\n",
       "    </tr>\n",
       "    <tr>\n",
       "      <th>18</th>\n",
       "      <td>C0000727</td>\n",
       "      <td>abdominaal syndroom, acuut</td>\n",
       "      <td>SY</td>\n",
       "      <td>UMLS-dutch</td>\n",
       "    </tr>\n",
       "    <tr>\n",
       "      <th>19</th>\n",
       "      <td>C0000727</td>\n",
       "      <td>syndroom abdominaal acuut</td>\n",
       "      <td>SY</td>\n",
       "      <td>UMLS-dutch</td>\n",
       "    </tr>\n",
       "  </tbody>\n",
       "</table>\n",
       "</div>"
      ],
      "text/plain": [
       "         cui                               str tty         sab\n",
       "0   C0000696                     A-zenuwvezels  SY  UMLS-dutch\n",
       "1   C0000715                          Abattoir  SY  UMLS-dutch\n",
       "2   C0000715                         Abattoirs  SY  UMLS-dutch\n",
       "3   C0000722          Abbreviated Injury Scale  SY  UMLS-dutch\n",
       "4   C0000726                           Abdomen  SY  UMLS-dutch\n",
       "5   C0000726                              Buik  SY  UMLS-dutch\n",
       "6   C0000727                        Acute buik  PN  UMLS-dutch\n",
       "7   C0000727               abdomen; acute buik  PN  UMLS-dutch\n",
       "8   C0000727       abdominaal; syndroom, acuut  PN  UMLS-dutch\n",
       "9   C0000727                     acuut abdomen  PN  UMLS-dutch\n",
       "10  C0000727        acuut; abdominaal syndroom  PN  UMLS-dutch\n",
       "11  C0000727                       acuut; buik  PN  UMLS-dutch\n",
       "12  C0000727                       buik; acuut  PN  UMLS-dutch\n",
       "13  C0000727  buik; pijn, algemeen, acute buik  PN  UMLS-dutch\n",
       "14  C0000727  pijn; buik, algemeen, acute buik  PN  UMLS-dutch\n",
       "15  C0000727       syndroom; abdominaal, acuut  PN  UMLS-dutch\n",
       "16  C0000727        syndroom; acuut abdominaal  PN  UMLS-dutch\n",
       "17  C0000727                       Buik, acute  SY  UMLS-dutch\n",
       "18  C0000727        abdominaal syndroom, acuut  SY  UMLS-dutch\n",
       "19  C0000727         syndroom abdominaal acuut  SY  UMLS-dutch"
      ]
     },
     "execution_count": 10,
     "metadata": {},
     "output_type": "execute_result"
    }
   ],
   "source": [
    "# Select a set of TTYs that seem most relevant for entity linking\n",
    "tty_selection = ['PT', 'LLT', 'MH', 'SY']\n",
    "df_dutch_umls_subset = df_dutch_umls[df_dutch_umls.TTY.isin(tty_selection)].copy()\n",
    "\n",
    "# Keep only relevant columns\n",
    "df_dutch_umls_subset = df_dutch_umls_subset[['CUI', 'STR', 'TTY', 'SAB']]\n",
    "df_dutch_umls_subset.rename({'CUI': 'cui', 'STR': 'str', 'TTY': 'tty', 'SAB': 'sab'}, inplace=True, axis=1)\n",
    "\n",
    "# Most of the terms in UMLS have the Metathesaurus preferred name in English. \n",
    "# For a rough but effective fix to get a good preferred name for the Dutch terms, \n",
    "# change the terms that have the value \"Designated preferred name\" (PT) for the \n",
    "# Term Type in Source (TTY) to the Metathesaurus preferred name (PN). All others\n",
    "# can be saved as synonym.\n",
    "df_dutch_umls_subset.tty.replace({'PT': 'PN',\n",
    "                                  'LLT': 'SY',\n",
    "                                  'MH': 'SY'}, inplace=True)\n",
    "\n",
    "# Remove \"NAO\" (\"Niet Anders Omschreven\"), which is relevant for the source terminlogy but not for entity linking.\n",
    "# See https://meddra.org/sites/default/files/guidance/file/intguide_15_0_dutch.pdf\n",
    "df_dutch_umls_subset.str = df_dutch_umls_subset.str.replace({' NAO': '', ' \\(NAO\\)': '', ' nao': ''}, regex=True)\n",
    "\n",
    "# Sort values\n",
    "df_dutch_umls_subset.sort_values(by=['cui', 'tty', 'str', 'sab'], inplace=True)\n",
    "\n",
    "# Drop duplicates, only keep the first entry (which is a PN because we sorted)\n",
    "print(f'Records before dropping duplicates: {df_dutch_umls_subset.shape[0]}')\n",
    "df_dutch_umls_subset = df_dutch_umls_subset.drop_duplicates(subset=['cui', 'str'], keep='first').reset_index(drop=True)\n",
    "print(f'Records after dropping duplicates: {df_dutch_umls_subset.shape[0]}')\n",
    "\n",
    "# Because dropped duplicates, only the first value in SAB is saved. Because we lost the information of other colums, rename the values to UMLS-dutch\n",
    "df_dutch_umls_subset['sab'] = 'UMLS-dutch'\n",
    "df_dutch_umls_subset.head(20)"
   ]
  },
  {
   "cell_type": "markdown",
   "id": "amended-hayes",
   "metadata": {},
   "source": [
    "## Adding TUI (types)\n",
    "UMLS concepts have one or multiple types. These types are kept in a separate table, `MRSTY`. See https://semanticnetwork.nlm.nih.gov/download/SemGroups.txt for all types."
   ]
  },
  {
   "cell_type": "code",
   "execution_count": 11,
   "id": "acquired-request",
   "metadata": {},
   "outputs": [
    {
     "data": {
      "text/html": [
       "<div>\n",
       "<style scoped>\n",
       "    .dataframe tbody tr th:only-of-type {\n",
       "        vertical-align: middle;\n",
       "    }\n",
       "\n",
       "    .dataframe tbody tr th {\n",
       "        vertical-align: top;\n",
       "    }\n",
       "\n",
       "    .dataframe thead th {\n",
       "        text-align: right;\n",
       "    }\n",
       "</style>\n",
       "<table border=\"1\" class=\"dataframe\">\n",
       "  <thead>\n",
       "    <tr style=\"text-align: right;\">\n",
       "      <th></th>\n",
       "      <th>cui</th>\n",
       "      <th>str</th>\n",
       "      <th>tty</th>\n",
       "      <th>sab</th>\n",
       "      <th>tui</th>\n",
       "      <th>sty</th>\n",
       "    </tr>\n",
       "  </thead>\n",
       "  <tbody>\n",
       "    <tr>\n",
       "      <th>237</th>\n",
       "      <td>C0000872</td>\n",
       "      <td>Academisch medisch centrum</td>\n",
       "      <td>SY</td>\n",
       "      <td>UMLS-dutch</td>\n",
       "      <td>T093</td>\n",
       "      <td>Health Care Related Organization</td>\n",
       "    </tr>\n",
       "    <tr>\n",
       "      <th>238</th>\n",
       "      <td>C0000872</td>\n",
       "      <td>Academisch medisch centrum</td>\n",
       "      <td>SY</td>\n",
       "      <td>UMLS-dutch</td>\n",
       "      <td>T073</td>\n",
       "      <td>Manufactured Object</td>\n",
       "    </tr>\n",
       "    <tr>\n",
       "      <th>239</th>\n",
       "      <td>C0000872</td>\n",
       "      <td>Academische medische centra</td>\n",
       "      <td>SY</td>\n",
       "      <td>UMLS-dutch</td>\n",
       "      <td>T093</td>\n",
       "      <td>Health Care Related Organization</td>\n",
       "    </tr>\n",
       "    <tr>\n",
       "      <th>240</th>\n",
       "      <td>C0000872</td>\n",
       "      <td>Academische medische centra</td>\n",
       "      <td>SY</td>\n",
       "      <td>UMLS-dutch</td>\n",
       "      <td>T073</td>\n",
       "      <td>Manufactured Object</td>\n",
       "    </tr>\n",
       "    <tr>\n",
       "      <th>241</th>\n",
       "      <td>C0000872</td>\n",
       "      <td>Medische centra, academische</td>\n",
       "      <td>SY</td>\n",
       "      <td>UMLS-dutch</td>\n",
       "      <td>T093</td>\n",
       "      <td>Health Care Related Organization</td>\n",
       "    </tr>\n",
       "    <tr>\n",
       "      <th>242</th>\n",
       "      <td>C0000872</td>\n",
       "      <td>Medische centra, academische</td>\n",
       "      <td>SY</td>\n",
       "      <td>UMLS-dutch</td>\n",
       "      <td>T073</td>\n",
       "      <td>Manufactured Object</td>\n",
       "    </tr>\n",
       "    <tr>\n",
       "      <th>353</th>\n",
       "      <td>C0001111</td>\n",
       "      <td>Regen, zure</td>\n",
       "      <td>SY</td>\n",
       "      <td>UMLS-dutch</td>\n",
       "      <td>T069</td>\n",
       "      <td>Environmental Effect of Humans</td>\n",
       "    </tr>\n",
       "    <tr>\n",
       "      <th>354</th>\n",
       "      <td>C0001111</td>\n",
       "      <td>Regen, zure</td>\n",
       "      <td>SY</td>\n",
       "      <td>UMLS-dutch</td>\n",
       "      <td>T131</td>\n",
       "      <td>Hazardous or Poisonous Substance</td>\n",
       "    </tr>\n",
       "    <tr>\n",
       "      <th>355</th>\n",
       "      <td>C0001111</td>\n",
       "      <td>Zure regen</td>\n",
       "      <td>SY</td>\n",
       "      <td>UMLS-dutch</td>\n",
       "      <td>T069</td>\n",
       "      <td>Environmental Effect of Humans</td>\n",
       "    </tr>\n",
       "    <tr>\n",
       "      <th>356</th>\n",
       "      <td>C0001111</td>\n",
       "      <td>Zure regen</td>\n",
       "      <td>SY</td>\n",
       "      <td>UMLS-dutch</td>\n",
       "      <td>T131</td>\n",
       "      <td>Hazardous or Poisonous Substance</td>\n",
       "    </tr>\n",
       "  </tbody>\n",
       "</table>\n",
       "</div>"
      ],
      "text/plain": [
       "          cui                           str tty         sab   tui  \\\n",
       "237  C0000872    Academisch medisch centrum  SY  UMLS-dutch  T093   \n",
       "238  C0000872    Academisch medisch centrum  SY  UMLS-dutch  T073   \n",
       "239  C0000872   Academische medische centra  SY  UMLS-dutch  T093   \n",
       "240  C0000872   Academische medische centra  SY  UMLS-dutch  T073   \n",
       "241  C0000872  Medische centra, academische  SY  UMLS-dutch  T093   \n",
       "242  C0000872  Medische centra, academische  SY  UMLS-dutch  T073   \n",
       "353  C0001111                   Regen, zure  SY  UMLS-dutch  T069   \n",
       "354  C0001111                   Regen, zure  SY  UMLS-dutch  T131   \n",
       "355  C0001111                    Zure regen  SY  UMLS-dutch  T069   \n",
       "356  C0001111                    Zure regen  SY  UMLS-dutch  T131   \n",
       "\n",
       "                                  sty  \n",
       "237  Health Care Related Organization  \n",
       "238               Manufactured Object  \n",
       "239  Health Care Related Organization  \n",
       "240               Manufactured Object  \n",
       "241  Health Care Related Organization  \n",
       "242               Manufactured Object  \n",
       "353    Environmental Effect of Humans  \n",
       "354  Hazardous or Poisonous Substance  \n",
       "355    Environmental Effect of Humans  \n",
       "356  Hazardous or Poisonous Substance  "
      ]
     },
     "execution_count": 11,
     "metadata": {},
     "output_type": "execute_result"
    }
   ],
   "source": [
    "# Load TUI table from MySQL\n",
    "query = \"\"\"\n",
    "SELECT cui, tui, sty FROM umls.mrsty\n",
    "\"\"\"\n",
    "df_tui = pd.read_sql_query(query, con=connection)\n",
    "\n",
    "# Add TUI column to previously created dataframe\n",
    "df_dutch_umls_subset_tui = df_dutch_umls_subset.merge(df_tui, how='left', on='cui')\n",
    "\n",
    "# View some concepts that have multiple TUIs\n",
    "df_dutch_umls_subset_tui[df_dutch_umls_subset_tui.duplicated(subset=['cui', 'str'], keep=False)].head(10)"
   ]
  },
  {
   "cell_type": "code",
   "execution_count": 22,
   "id": "suspended-magazine",
   "metadata": {},
   "outputs": [
    {
     "name": "stdout",
     "output_type": "stream",
     "text": [
      "Number of unique TUIs in Dutch UMLS subset: 119\n"
     ]
    },
    {
     "data": {
      "text/plain": [
       "Disease or Syndrome                    67427\n",
       "Finding                                21258\n",
       "Neoplastic Process                     13243\n",
       "Injury or Poisoning                    12291\n",
       "Pathologic Function                    12112\n",
       "Congenital Abnormality                  8562\n",
       "Therapeutic or Preventive Procedure     6534\n",
       "Mental or Behavioral Dysfunction        5928\n",
       "Sign or Symptom                         4714\n",
       "Laboratory Procedure                    2904\n",
       "Name: sty, dtype: int64"
      ]
     },
     "execution_count": 22,
     "metadata": {},
     "output_type": "execute_result"
    }
   ],
   "source": [
    "print(f'Number of unique TUIs in Dutch UMLS subset: {len(df_dutch_umls_subset_tui.tui.unique())}')\n",
    "df_dutch_umls_subset_tui.sty.value_counts().head(10)"
   ]
  },
  {
   "cell_type": "markdown",
   "id": "standing-marsh",
   "metadata": {},
   "source": [
    "We could implement filtering of TUIs here. This depends on the domain and question of subsequent analysis. For SNOMED"
   ]
  },
  {
   "cell_type": "code",
   "execution_count": 23,
   "id": "interpreted-national",
   "metadata": {},
   "outputs": [],
   "source": [
    "# Save UMLS \n",
    "df_dutch_umls_subset_tui.to_csv('04_ConceptDB/umls-dutch_v1.3-no-drugs.csv', index=False)"
   ]
  },
  {
   "cell_type": "markdown",
   "id": "russian-gnome",
   "metadata": {},
   "source": [
    "## Add SNOMED drug concepts\n",
    "As mentioned in the introduction of this notebook, in this section drug concepts will be added to the UMLS concept table."
   ]
  },
  {
   "cell_type": "markdown",
   "id": "bigger-panama",
   "metadata": {},
   "source": [
    "### Load SNOMED US data"
   ]
  },
  {
   "cell_type": "code",
   "execution_count": 24,
   "id": "extensive-match",
   "metadata": {},
   "outputs": [],
   "source": [
    "# Credentials to connect to remote MySQL database that contains SNOMEDCT-US.\n",
    "# This is required for mapping SNOMED IDs from Dutch SNOMED drug concepts to UMLS IDs.\n",
    "host = ''\n",
    "username = 'root'\n",
    "password = ''\n",
    "port='3306'\n",
    "database = 'umls'"
   ]
  },
  {
   "cell_type": "code",
   "execution_count": 26,
   "id": "front-start",
   "metadata": {},
   "outputs": [
    {
     "name": "stdout",
     "output_type": "stream",
     "text": [
      "SNOMED US terms with UMLS CUI: 361557\n"
     ]
    },
    {
     "data": {
      "text/html": [
       "<div>\n",
       "<style scoped>\n",
       "    .dataframe tbody tr th:only-of-type {\n",
       "        vertical-align: middle;\n",
       "    }\n",
       "\n",
       "    .dataframe tbody tr th {\n",
       "        vertical-align: top;\n",
       "    }\n",
       "\n",
       "    .dataframe thead th {\n",
       "        text-align: right;\n",
       "    }\n",
       "</style>\n",
       "<table border=\"1\" class=\"dataframe\">\n",
       "  <thead>\n",
       "    <tr style=\"text-align: right;\">\n",
       "      <th></th>\n",
       "      <th>cui</th>\n",
       "      <th>scui</th>\n",
       "    </tr>\n",
       "  </thead>\n",
       "  <tbody>\n",
       "    <tr>\n",
       "      <th>0</th>\n",
       "      <td>C0000052</td>\n",
       "      <td>58488005</td>\n",
       "    </tr>\n",
       "    <tr>\n",
       "      <th>1</th>\n",
       "      <td>C0000097</td>\n",
       "      <td>285407008</td>\n",
       "    </tr>\n",
       "    <tr>\n",
       "      <th>2</th>\n",
       "      <td>C0000102</td>\n",
       "      <td>13579002</td>\n",
       "    </tr>\n",
       "    <tr>\n",
       "      <th>3</th>\n",
       "      <td>C0000163</td>\n",
       "      <td>112116001</td>\n",
       "    </tr>\n",
       "    <tr>\n",
       "      <th>4</th>\n",
       "      <td>C0000167</td>\n",
       "      <td>46120009</td>\n",
       "    </tr>\n",
       "  </tbody>\n",
       "</table>\n",
       "</div>"
      ],
      "text/plain": [
       "        cui       scui\n",
       "0  C0000052   58488005\n",
       "1  C0000097  285407008\n",
       "2  C0000102   13579002\n",
       "3  C0000163  112116001\n",
       "4  C0000167   46120009"
      ]
     },
     "execution_count": 26,
     "metadata": {},
     "output_type": "execute_result"
    }
   ],
   "source": [
    "# Create the connection\n",
    "connection_string = f'mysql://{username}:{password}@{host}:{port}/{database}'\n",
    "connection = create_engine(connection_string)\n",
    "\n",
    "# By removing the obsolute terms, we will solve some one-to-many mapping issues\n",
    "query = \"\"\"\n",
    "SELECT distinct cui, scui FROM MRCONSO where sab = 'SNOMEDCT_US' and SUPPRESS !='O'\n",
    "\"\"\"\n",
    "df_snomed_us = pd.read_sql_query(query, con=connection)\n",
    "df_snomed_us.scui = df_snomed_us.scui.astype(int)\n",
    "print(f'SNOMED US terms with UMLS CUI: {df_snomed_us.shape[0]}')\n",
    "df_snomed_us.head()"
   ]
  },
  {
   "cell_type": "markdown",
   "id": "featured-programming",
   "metadata": {},
   "source": [
    "### Load SNOMED Dutch data"
   ]
  },
  {
   "cell_type": "code",
   "execution_count": 49,
   "id": "unsigned-retention",
   "metadata": {},
   "outputs": [
    {
     "name": "stdout",
     "output_type": "stream",
     "text": [
      "Number of SNOMED names from type \"substantie\": 10435\n"
     ]
    }
   ],
   "source": [
    "# Read Dutch SNOMED concept table to retrieve drug names\n",
    "df_snomed_dutch = pd.read_csv('04_ConceptDB/snomedct-dutch_v1.0.csv')\n",
    "df_snomed_dutch.cui = df_snomed_dutch.cui.astype(int)\n",
    "df_snomed_dutch_drugs = df_snomed_dutch[df_snomed_dutch.tui == 'substantie']\n",
    "print(f'Number of SNOMED names from type \"substantie\": {df_snomed_dutch_drugs.shape[0]}')"
   ]
  },
  {
   "cell_type": "code",
   "execution_count": 50,
   "id": "annual-scholar",
   "metadata": {},
   "outputs": [
    {
     "name": "stdout",
     "output_type": "stream",
     "text": [
      "Number of unique SNOMED CUIs from type \"substantie\" 5772\n"
     ]
    }
   ],
   "source": [
    "df_snomed_dutch_drugs_cuis = df_snomed_dutch[df_snomed_dutch.tui == 'substantie'].cui.unique()\n",
    "print(f'Number of unique SNOMED CUIs from type \"substantie\" {len(df_snomed_dutch_drugs_cuis)}')"
   ]
  },
  {
   "cell_type": "markdown",
   "id": "professional-extra",
   "metadata": {},
   "source": [
    "This means that on average, every SNOMED concept from type \"substantie\" has 1.8 names."
   ]
  },
  {
   "cell_type": "markdown",
   "id": "spiritual-cleaners",
   "metadata": {},
   "source": [
    "### Combine SNOMED Dutch with SNOMED US to add UMLS CUIs"
   ]
  },
  {
   "cell_type": "code",
   "execution_count": 51,
   "id": "ranging-cleaners",
   "metadata": {},
   "outputs": [
    {
     "name": "stdout",
     "output_type": "stream",
     "text": [
      "Number of SNOMED US concepts that are also present in SNOMED Dutch \"substance\" subset: 5588\n",
      "Number of unique SNOMED IDs in subset: 5483\n",
      "Number of unique UMLS IDs in subset: 5551\n"
     ]
    }
   ],
   "source": [
    "# Select only SNOMED US concepts that are in SNOMED Dutch \"substance\" subset\n",
    "df_snomed_us_drugs = df_snomed_us[df_snomed_us.scui.isin(df_snomed_dutch_drugs_cuis)]\n",
    "print(f'Number of SNOMED US concepts that are also present in SNOMED Dutch \"substance\" subset: {df_snomed_us_drugs.shape[0]}')\n",
    "print(f'Number of unique SNOMED IDs in subset: {len(df_snomed_us_drugs.scui.unique())}')\n",
    "print(f'Number of unique UMLS IDs in subset: {len(df_snomed_us_drugs.cui.unique())}')"
   ]
  },
  {
   "cell_type": "markdown",
   "id": "instrumental-quest",
   "metadata": {},
   "source": [
    "This shows the many to many mapping. Some SNOMED IDs map to multiple UMLS IDs, while some UMLS IDs map to multiple SNOMED IDs. "
   ]
  },
  {
   "cell_type": "code",
   "execution_count": 52,
   "id": "seeing-latest",
   "metadata": {},
   "outputs": [
    {
     "name": "stdout",
     "output_type": "stream",
     "text": [
      "Number of SNOMED IDs that map to multiple UMLS IDs: 105\n"
     ]
    },
    {
     "data": {
      "text/html": [
       "<div>\n",
       "<style scoped>\n",
       "    .dataframe tbody tr th:only-of-type {\n",
       "        vertical-align: middle;\n",
       "    }\n",
       "\n",
       "    .dataframe tbody tr th {\n",
       "        vertical-align: top;\n",
       "    }\n",
       "\n",
       "    .dataframe thead th {\n",
       "        text-align: right;\n",
       "    }\n",
       "</style>\n",
       "<table border=\"1\" class=\"dataframe\">\n",
       "  <thead>\n",
       "    <tr style=\"text-align: right;\">\n",
       "      <th></th>\n",
       "      <th>cui</th>\n",
       "      <th>scui</th>\n",
       "    </tr>\n",
       "  </thead>\n",
       "  <tbody>\n",
       "    <tr>\n",
       "      <th>13912</th>\n",
       "      <td>C0039267</td>\n",
       "      <td>1557002</td>\n",
       "    </tr>\n",
       "    <tr>\n",
       "      <th>274785</th>\n",
       "      <td>C1963644</td>\n",
       "      <td>1557002</td>\n",
       "    </tr>\n",
       "    <tr>\n",
       "      <th>18397</th>\n",
       "      <td>C0066335</td>\n",
       "      <td>2799001</td>\n",
       "    </tr>\n",
       "    <tr>\n",
       "      <th>319961</th>\n",
       "      <td>C4048241</td>\n",
       "      <td>2799001</td>\n",
       "    </tr>\n",
       "    <tr>\n",
       "      <th>14117</th>\n",
       "      <td>C0039867</td>\n",
       "      <td>3379001</td>\n",
       "    </tr>\n",
       "  </tbody>\n",
       "</table>\n",
       "</div>"
      ],
      "text/plain": [
       "             cui     scui\n",
       "13912   C0039267  1557002\n",
       "274785  C1963644  1557002\n",
       "18397   C0066335  2799001\n",
       "319961  C4048241  2799001\n",
       "14117   C0039867  3379001"
      ]
     },
     "execution_count": 52,
     "metadata": {},
     "output_type": "execute_result"
    }
   ],
   "source": [
    "# Visualize which SNOMED IDs map to multiple UMLS IDs\n",
    "df_snomed_us_drugs_sorted = df_snomed_us_drugs.sort_values(['scui', 'cui'])\n",
    "print(f'Number of SNOMED IDs that map to multiple UMLS IDs: {sum(df_snomed_us_drugs_sorted.duplicated([\"scui\"]))}')\n",
    "df_snomed_us_drugs_sorted[df_snomed_us_drugs_sorted.duplicated(['scui'], keep=False)].head()"
   ]
  },
  {
   "cell_type": "markdown",
   "id": "compact-chocolate",
   "metadata": {},
   "source": [
    "This means there are some SNOMED IDs that map to multiple UMLS CUIs"
   ]
  },
  {
   "cell_type": "code",
   "execution_count": 55,
   "id": "typical-encyclopedia",
   "metadata": {},
   "outputs": [
    {
     "data": {
      "text/html": [
       "<div>\n",
       "<style scoped>\n",
       "    .dataframe tbody tr th:only-of-type {\n",
       "        vertical-align: middle;\n",
       "    }\n",
       "\n",
       "    .dataframe tbody tr th {\n",
       "        vertical-align: top;\n",
       "    }\n",
       "\n",
       "    .dataframe thead th {\n",
       "        text-align: right;\n",
       "    }\n",
       "</style>\n",
       "<table border=\"1\" class=\"dataframe\">\n",
       "  <thead>\n",
       "    <tr style=\"text-align: right;\">\n",
       "      <th></th>\n",
       "      <th>cui</th>\n",
       "      <th>str</th>\n",
       "      <th>tty</th>\n",
       "      <th>tui</th>\n",
       "      <th>sab</th>\n",
       "    </tr>\n",
       "  </thead>\n",
       "  <tbody>\n",
       "    <tr>\n",
       "      <th>1376</th>\n",
       "      <td>1557002</td>\n",
       "      <td>talk</td>\n",
       "      <td>PN</td>\n",
       "      <td>substantie</td>\n",
       "      <td>SNOMED-CT-NL</td>\n",
       "    </tr>\n",
       "    <tr>\n",
       "      <th>1377</th>\n",
       "      <td>1557002</td>\n",
       "      <td>talkpoeder</td>\n",
       "      <td>SY</td>\n",
       "      <td>substantie</td>\n",
       "      <td>SNOMED-CT-NL</td>\n",
       "    </tr>\n",
       "    <tr>\n",
       "      <th>2571</th>\n",
       "      <td>2799001</td>\n",
       "      <td>methylbenzethoniumchloride</td>\n",
       "      <td>PN</td>\n",
       "      <td>substantie</td>\n",
       "      <td>SNOMED-CT-NL</td>\n",
       "    </tr>\n",
       "    <tr>\n",
       "      <th>3172</th>\n",
       "      <td>3379001</td>\n",
       "      <td>thiomersal</td>\n",
       "      <td>PN</td>\n",
       "      <td>substantie</td>\n",
       "      <td>SNOMED-CT-NL</td>\n",
       "    </tr>\n",
       "    <tr>\n",
       "      <th>3173</th>\n",
       "      <td>3379001</td>\n",
       "      <td>thimerosal</td>\n",
       "      <td>SY</td>\n",
       "      <td>substantie</td>\n",
       "      <td>SNOMED-CT-NL</td>\n",
       "    </tr>\n",
       "  </tbody>\n",
       "</table>\n",
       "</div>"
      ],
      "text/plain": [
       "          cui                         str tty         tui           sab\n",
       "1376  1557002                        talk  PN  substantie  SNOMED-CT-NL\n",
       "1377  1557002                  talkpoeder  SY  substantie  SNOMED-CT-NL\n",
       "2571  2799001  methylbenzethoniumchloride  PN  substantie  SNOMED-CT-NL\n",
       "3172  3379001                  thiomersal  PN  substantie  SNOMED-CT-NL\n",
       "3173  3379001                  thimerosal  SY  substantie  SNOMED-CT-NL"
      ]
     },
     "execution_count": 55,
     "metadata": {},
     "output_type": "execute_result"
    }
   ],
   "source": [
    "# Visualize which SNOMED IDs map to multiple UMLS IDs including the Dutch name ('str')\n",
    "df_snomed_dutch_drugs[df_snomed_dutch_drugs.cui.isin(df_snomed_us_drugs_sorted[df_snomed_us_drugs_sorted.duplicated(['scui'], keep=False)].scui)].head()"
   ]
  },
  {
   "cell_type": "code",
   "execution_count": 60,
   "id": "desirable-justice",
   "metadata": {},
   "outputs": [
    {
     "name": "stdout",
     "output_type": "stream",
     "text": [
      "Number of SNOMED IDs that map to UMLS IDs after dropping duplicates: 5483\n"
     ]
    }
   ],
   "source": [
    "# For 105 CUIs that map to multiple SNOMED IDs, we will take a random SNOMED ID by only keeping the first entry\n",
    "df_snomed_us_drugs_unique = df_snomed_us_drugs_sorted.drop_duplicates(['scui'])\n",
    "print(f'Number of SNOMED IDs that map to UMLS IDs after dropping duplicates: {df_snomed_us_drugs_unique.shape[0]}')"
   ]
  },
  {
   "cell_type": "code",
   "execution_count": 64,
   "id": "technical-degree",
   "metadata": {},
   "outputs": [
    {
     "data": {
      "text/plain": [
       "35"
      ]
     },
     "execution_count": 64,
     "metadata": {},
     "output_type": "execute_result"
    }
   ],
   "source": [
    "# For a small amount of records, multiple SNOMED IDs map to the same CUI. \n",
    "# This is fine, it means that these UMLS CUIs will have more names from SNOMED.\n",
    "len(df_snomed_us_drugs_unique.scui.unique()) - len(df_snomed_us_drugs_unique.cui.unique())"
   ]
  },
  {
   "cell_type": "code",
   "execution_count": 71,
   "id": "lasting-citation",
   "metadata": {},
   "outputs": [
    {
     "name": "stdout",
     "output_type": "stream",
     "text": [
      "Dutch SNOMED drug concepts with UMLS ID: 5448\n",
      "Dutch SNOMED drug names with UMLS ID: 9874\n"
     ]
    },
    {
     "data": {
      "text/html": [
       "<div>\n",
       "<style scoped>\n",
       "    .dataframe tbody tr th:only-of-type {\n",
       "        vertical-align: middle;\n",
       "    }\n",
       "\n",
       "    .dataframe tbody tr th {\n",
       "        vertical-align: top;\n",
       "    }\n",
       "\n",
       "    .dataframe thead th {\n",
       "        text-align: right;\n",
       "    }\n",
       "</style>\n",
       "<table border=\"1\" class=\"dataframe\">\n",
       "  <thead>\n",
       "    <tr style=\"text-align: right;\">\n",
       "      <th></th>\n",
       "      <th>cui</th>\n",
       "      <th>str</th>\n",
       "      <th>tty</th>\n",
       "      <th>sab</th>\n",
       "    </tr>\n",
       "  </thead>\n",
       "  <tbody>\n",
       "    <tr>\n",
       "      <th>6210</th>\n",
       "      <td>C0025677</td>\n",
       "      <td>methotrexaat</td>\n",
       "      <td>PN</td>\n",
       "      <td>SNOMED-CT-NL</td>\n",
       "    </tr>\n",
       "    <tr>\n",
       "      <th>6211</th>\n",
       "      <td>C0025677</td>\n",
       "      <td>MTX</td>\n",
       "      <td>SY</td>\n",
       "      <td>SNOMED-CT-NL</td>\n",
       "    </tr>\n",
       "  </tbody>\n",
       "</table>\n",
       "</div>"
      ],
      "text/plain": [
       "           cui           str tty           sab\n",
       "6210  C0025677  methotrexaat  PN  SNOMED-CT-NL\n",
       "6211  C0025677           MTX  SY  SNOMED-CT-NL"
      ]
     },
     "execution_count": 71,
     "metadata": {},
     "output_type": "execute_result"
    }
   ],
   "source": [
    "# Merge SNOMED-UMLS table with SNOMED-Drugs table\n",
    "df_umls_dutch_drugs = df_snomed_dutch_drugs.merge(df_snomed_us_drugs_unique, left_on='cui', right_on='scui', how='inner')\n",
    "df_umls_dutch_drugs = df_umls_dutch_drugs[['cui_y', 'str', 'tty', 'sab']]\n",
    "df_umls_dutch_drugs.rename({'cui_y': 'cui'}, inplace=True, axis=1)\n",
    "\n",
    "print(f'Dutch SNOMED drug concepts with UMLS ID: {len(df_umls_dutch_drugs.cui.unique())}')\n",
    "print(f'Dutch SNOMED drug names with UMLS ID: {df_umls_dutch_drugs.shape[0]}')\n",
    "\n",
    "# Show example\n",
    "df_umls_dutch_drugs[df_umls_dutch_drugs.cui=='C0025677']"
   ]
  },
  {
   "cell_type": "markdown",
   "id": "standing-scene",
   "metadata": {},
   "source": [
    "### Merge Dutch UMLS with Dutch UMLS drugs"
   ]
  },
  {
   "cell_type": "code",
   "execution_count": 85,
   "id": "usual-receptor",
   "metadata": {},
   "outputs": [
    {
     "name": "stdout",
     "output_type": "stream",
     "text": [
      "Dutch UMLS concepts: 187454\n",
      "Dutch UMLS concepts with SNOMED drug name: 9874\n",
      "Concatenated: 196168\n"
     ]
    }
   ],
   "source": [
    "print(f'Dutch UMLS concepts: {df_dutch_umls_subset_tui.shape[0]}')\n",
    "print(f'Dutch UMLS concepts with SNOMED drug name: {df_umls_dutch_drugs.shape[0]}')\n",
    "df_umls_dutch_total = pd.concat([df_dutch_umls_subset, df_umls_dutch_drugs])\n",
    "print(f'Concatenated: {df_umls_dutch_total.shape[0]}')"
   ]
  },
  {
   "cell_type": "code",
   "execution_count": 86,
   "id": "noble-output",
   "metadata": {},
   "outputs": [
    {
     "name": "stdout",
     "output_type": "stream",
     "text": [
      "After removing duplicate names: 196159\n"
     ]
    }
   ],
   "source": [
    "# Remove duplicate names, because a few drug names were already in our initial UMLS set\n",
    "# We only keep the first, because we assume these concept already havea primary name (PN) in the initial set\n",
    "df_umls_dutch_total.drop_duplicates(subset=['cui', 'str'], keep='first', inplace=True)\n",
    "print(f'After removing duplicate names: {df_umls_dutch_total.shape[0]}')"
   ]
  },
  {
   "cell_type": "code",
   "execution_count": 87,
   "id": "blocked-mercy",
   "metadata": {},
   "outputs": [
    {
     "data": {
      "text/html": [
       "<div>\n",
       "<style scoped>\n",
       "    .dataframe tbody tr th:only-of-type {\n",
       "        vertical-align: middle;\n",
       "    }\n",
       "\n",
       "    .dataframe tbody tr th {\n",
       "        vertical-align: top;\n",
       "    }\n",
       "\n",
       "    .dataframe thead th {\n",
       "        text-align: right;\n",
       "    }\n",
       "</style>\n",
       "<table border=\"1\" class=\"dataframe\">\n",
       "  <thead>\n",
       "    <tr style=\"text-align: right;\">\n",
       "      <th></th>\n",
       "      <th>cui</th>\n",
       "      <th>str</th>\n",
       "      <th>tty</th>\n",
       "      <th>sab</th>\n",
       "    </tr>\n",
       "  </thead>\n",
       "  <tbody>\n",
       "    <tr>\n",
       "      <th>0</th>\n",
       "      <td>C0000696</td>\n",
       "      <td>A-zenuwvezels</td>\n",
       "      <td>SY</td>\n",
       "      <td>UMLS-dutch</td>\n",
       "    </tr>\n",
       "    <tr>\n",
       "      <th>1</th>\n",
       "      <td>C0000715</td>\n",
       "      <td>Abattoir</td>\n",
       "      <td>SY</td>\n",
       "      <td>UMLS-dutch</td>\n",
       "    </tr>\n",
       "    <tr>\n",
       "      <th>2</th>\n",
       "      <td>C0000715</td>\n",
       "      <td>Abattoirs</td>\n",
       "      <td>SY</td>\n",
       "      <td>UMLS-dutch</td>\n",
       "    </tr>\n",
       "    <tr>\n",
       "      <th>3</th>\n",
       "      <td>C0000722</td>\n",
       "      <td>Abbreviated Injury Scale</td>\n",
       "      <td>SY</td>\n",
       "      <td>UMLS-dutch</td>\n",
       "    </tr>\n",
       "    <tr>\n",
       "      <th>4</th>\n",
       "      <td>C0000726</td>\n",
       "      <td>Abdomen</td>\n",
       "      <td>SY</td>\n",
       "      <td>UMLS-dutch</td>\n",
       "    </tr>\n",
       "    <tr>\n",
       "      <th>...</th>\n",
       "      <td>...</td>\n",
       "      <td>...</td>\n",
       "      <td>...</td>\n",
       "      <td>...</td>\n",
       "    </tr>\n",
       "    <tr>\n",
       "      <th>9869</th>\n",
       "      <td>C3714627</td>\n",
       "      <td>noot van boom</td>\n",
       "      <td>PN</td>\n",
       "      <td>SNOMED-CT-NL</td>\n",
       "    </tr>\n",
       "    <tr>\n",
       "      <th>9870</th>\n",
       "      <td>C3714627</td>\n",
       "      <td>boomnoot</td>\n",
       "      <td>SY</td>\n",
       "      <td>SNOMED-CT-NL</td>\n",
       "    </tr>\n",
       "    <tr>\n",
       "      <th>9871</th>\n",
       "      <td>C4047336</td>\n",
       "      <td>materiaal van geleedpotige</td>\n",
       "      <td>PN</td>\n",
       "      <td>SNOMED-CT-NL</td>\n",
       "    </tr>\n",
       "    <tr>\n",
       "      <th>9872</th>\n",
       "      <td>C4047336</td>\n",
       "      <td>materiaal van artropode</td>\n",
       "      <td>SY</td>\n",
       "      <td>SNOMED-CT-NL</td>\n",
       "    </tr>\n",
       "    <tr>\n",
       "      <th>9873</th>\n",
       "      <td>C1144109</td>\n",
       "      <td>octyltriazone</td>\n",
       "      <td>PN</td>\n",
       "      <td>SNOMED-CT-NL</td>\n",
       "    </tr>\n",
       "  </tbody>\n",
       "</table>\n",
       "<p>196159 rows × 4 columns</p>\n",
       "</div>"
      ],
      "text/plain": [
       "           cui                         str tty           sab\n",
       "0     C0000696               A-zenuwvezels  SY    UMLS-dutch\n",
       "1     C0000715                    Abattoir  SY    UMLS-dutch\n",
       "2     C0000715                   Abattoirs  SY    UMLS-dutch\n",
       "3     C0000722    Abbreviated Injury Scale  SY    UMLS-dutch\n",
       "4     C0000726                     Abdomen  SY    UMLS-dutch\n",
       "...        ...                         ...  ..           ...\n",
       "9869  C3714627               noot van boom  PN  SNOMED-CT-NL\n",
       "9870  C3714627                    boomnoot  SY  SNOMED-CT-NL\n",
       "9871  C4047336  materiaal van geleedpotige  PN  SNOMED-CT-NL\n",
       "9872  C4047336     materiaal van artropode  SY  SNOMED-CT-NL\n",
       "9873  C1144109               octyltriazone  PN  SNOMED-CT-NL\n",
       "\n",
       "[196159 rows x 4 columns]"
      ]
     },
     "execution_count": 87,
     "metadata": {},
     "output_type": "execute_result"
    }
   ],
   "source": [
    "df_umls_dutch_total"
   ]
  },
  {
   "cell_type": "markdown",
   "id": "chicken-knife",
   "metadata": {},
   "source": [
    "### Add TUIs to merged table"
   ]
  },
  {
   "cell_type": "code",
   "execution_count": 88,
   "id": "flying-polish",
   "metadata": {},
   "outputs": [
    {
     "name": "stdout",
     "output_type": "stream",
     "text": [
      "Dutch UMLS names with SNOMED drug names with TUI: 197330\n"
     ]
    }
   ],
   "source": [
    "# Add TUIs\n",
    "df_umls_dutch_total_with_tui = df_umls_dutch_total.merge(df_tui, how='left', on='cui')\n",
    "print(f'Dutch UMLS names with SNOMED drug names with TUI: {df_umls_dutch_total_with_tui.shape[0]}')"
   ]
  },
  {
   "cell_type": "code",
   "execution_count": 90,
   "id": "noble-hollow",
   "metadata": {},
   "outputs": [],
   "source": [
    "df_umls_dutch_total_with_tui.to_csv('04_ConceptDB/umls-dutch_v1.3-complete.csv', index=False)"
   ]
  }
 ],
 "metadata": {
  "kernelspec": {
   "display_name": "Python 3",
   "language": "python",
   "name": "python3"
  },
  "language_info": {
   "codemirror_mode": {
    "name": "ipython",
    "version": 3
   },
   "file_extension": ".py",
   "mimetype": "text/x-python",
   "name": "python",
   "nbconvert_exporter": "python",
   "pygments_lexer": "ipython3",
   "version": "3.8.5"
  }
 },
 "nbformat": 4,
 "nbformat_minor": 5
}
