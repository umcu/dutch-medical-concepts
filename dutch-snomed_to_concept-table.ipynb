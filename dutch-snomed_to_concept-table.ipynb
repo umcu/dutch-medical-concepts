{
 "cells": [
  {
   "cell_type": "code",
   "execution_count": 1,
   "id": "compound-seller",
   "metadata": {},
   "outputs": [],
   "source": [
    "import pandas as pd\n",
    "import numpy as np\n",
    "import json\n",
    "import re\n",
    "import os"
   ]
  },
  {
   "cell_type": "markdown",
   "id": "needed-prospect",
   "metadata": {},
   "source": [
    "### Choosing file type\n",
    "\n",
    "| Edition | Total names | NL names | Description |\n",
    "| - | - | - | - |\n",
    "| Edition | 2263140 | 736619 | Include international SNOMED |\n",
    "| Extension | 770016 | 736619 | Some terms are only in English |\n",
    "| Patient Friendly | 1437 | 1437 | Small but potentially useful list of synonyms |\n",
    "\n",
    "The \"Edition\" contains also English names, so for our purpose we will focus on the \"Extention\" and \"Patient Friendly\" terms."
   ]
  },
  {
   "cell_type": "code",
   "execution_count": 2,
   "id": "tight-cooking",
   "metadata": {},
   "outputs": [],
   "source": [
    "def parse_file(filename):\n",
    "    with open(filename, encoding='utf-8') as f:\n",
    "        entities = [[n.strip() for n in line.split('\\t')] for line in f]\n",
    "        return pd.DataFrame(entities[1:], columns=entities[0])"
   ]
  },
  {
   "cell_type": "code",
   "execution_count": 3,
   "id": "vietnamese-dining",
   "metadata": {},
   "outputs": [],
   "source": [
    "snomed_dir = '/Users/stan3/Data/snomed'\n",
    "nl_ed_term = os.path.join(snomed_dir, 'SnomedCT_Netherlands_EditionRelease_PRODUCTION_20200930T120000Z/Snapshot/Terminology/sct2_Description_Snapshot_NL_20200930.txt')\n",
    "nl_ex_term = os.path.join(snomed_dir, 'SnomedCT_Netherlands_ExtensionRelease_PRODUCTION_20200930T120000Z/Snapshot/Terminology/sct2_Description_Snapshot_NL_20200930.txt')\n",
    "nl_pf_term = os.path.join(snomed_dir, 'SnomedCT_Netherlands_PatientFriendlyExtensionRelease_PRODUCTION_20200930T120000Z/Snapshot/Terminology/sct2_Description_Snapshot_NL-PatientFriendly_20200930.txt')"
   ]
  },
  {
   "cell_type": "markdown",
   "id": "dependent-variable",
   "metadata": {},
   "source": [
    "### Description type\n",
    "\n",
    "|Type id|Term|\n",
    "|-|-|\n",
    "|900000000000003001|Fully specified name|\n",
    "|900000000000013009|Synonym|\n",
    "|900000000000550004|Definition|\n",
    "\n",
    "We will use the FSN and Synonyms, as well as only dutch terms and terms that are active."
   ]
  },
  {
   "cell_type": "code",
   "execution_count": 4,
   "id": "remarkable-trader",
   "metadata": {},
   "outputs": [],
   "source": [
    "df_ex = parse_file(nl_ex_term)\n",
    "df_ex = df_ex[(df_ex.languageCode == 'nl') & (df_ex.active == '1')]\n",
    "# Inactive: 34481\n",
    "# Active: 702138\n",
    "\n",
    "df_pf = parse_file(nl_pf_term)\n",
    "df_pf = df_pf[(df_pf.typeId == '900000000000013009') & (df_pf.active == '1')]\n",
    "# Inactive: 149\n",
    "# Active: 1284\n",
    "\n",
    "# Extract fully specified names\n",
    "df_fsn = df_ex[(df_ex.typeId == '900000000000003001')]\n",
    "df_fsn.shape\n",
    "# Inactive: 15211, 9\n",
    "# Active: 231646, 9\n",
    "\n",
    "df_ex_synonyms = df_ex[(df_ex.typeId == '900000000000013009')]\n",
    "\n",
    "# Extract names and synonyms\n",
    "df_synonyms = pd.concat([df_ex[(df_ex.typeId == '900000000000013009')],\n",
    "                         df_pf])"
   ]
  },
  {
   "cell_type": "markdown",
   "id": "written-remains",
   "metadata": {},
   "source": [
    "### Primary concepts"
   ]
  },
  {
   "cell_type": "code",
   "execution_count": 5,
   "id": "diagnostic-interview",
   "metadata": {},
   "outputs": [
    {
     "data": {
      "text/html": [
       "<div>\n",
       "<style scoped>\n",
       "    .dataframe tbody tr th:only-of-type {\n",
       "        vertical-align: middle;\n",
       "    }\n",
       "\n",
       "    .dataframe tbody tr th {\n",
       "        vertical-align: top;\n",
       "    }\n",
       "\n",
       "    .dataframe thead th {\n",
       "        text-align: right;\n",
       "    }\n",
       "</style>\n",
       "<table border=\"1\" class=\"dataframe\">\n",
       "  <thead>\n",
       "    <tr style=\"text-align: right;\">\n",
       "      <th></th>\n",
       "      <th>conceptId</th>\n",
       "      <th>typeId</th>\n",
       "      <th>tui</th>\n",
       "      <th>str</th>\n",
       "    </tr>\n",
       "  </thead>\n",
       "  <tbody>\n",
       "    <tr>\n",
       "      <th>4</th>\n",
       "      <td>286705009</td>\n",
       "      <td>900000000000003001</td>\n",
       "      <td>bevinding</td>\n",
       "      <td>weinig neiging tot schrikken</td>\n",
       "    </tr>\n",
       "    <tr>\n",
       "      <th>5</th>\n",
       "      <td>364985008</td>\n",
       "      <td>900000000000003001</td>\n",
       "      <td>bevinding</td>\n",
       "      <td>bevinding betreffende geleidingspatroon van se...</td>\n",
       "    </tr>\n",
       "    <tr>\n",
       "      <th>9</th>\n",
       "      <td>299304009</td>\n",
       "      <td>900000000000003001</td>\n",
       "      <td>bevinding</td>\n",
       "      <td>verminderde 'range of motion' bij passieve exo...</td>\n",
       "    </tr>\n",
       "    <tr>\n",
       "      <th>15</th>\n",
       "      <td>278238002</td>\n",
       "      <td>900000000000003001</td>\n",
       "      <td>bevinding</td>\n",
       "      <td>focale vertraging van gemengde zenuwgeleiding</td>\n",
       "    </tr>\n",
       "    <tr>\n",
       "      <th>17</th>\n",
       "      <td>76369008</td>\n",
       "      <td>900000000000003001</td>\n",
       "      <td>bevinding</td>\n",
       "      <td>onaangepaste persoonlijkheidstrek</td>\n",
       "    </tr>\n",
       "  </tbody>\n",
       "</table>\n",
       "</div>"
      ],
      "text/plain": [
       "    conceptId              typeId        tui  \\\n",
       "4   286705009  900000000000003001  bevinding   \n",
       "5   364985008  900000000000003001  bevinding   \n",
       "9   299304009  900000000000003001  bevinding   \n",
       "15  278238002  900000000000003001  bevinding   \n",
       "17   76369008  900000000000003001  bevinding   \n",
       "\n",
       "                                                  str  \n",
       "4                        weinig neiging tot schrikken  \n",
       "5   bevinding betreffende geleidingspatroon van se...  \n",
       "9   verminderde 'range of motion' bij passieve exo...  \n",
       "15      focale vertraging van gemengde zenuwgeleiding  \n",
       "17                  onaangepaste persoonlijkheidstrek  "
      ]
     },
     "execution_count": 5,
     "metadata": {},
     "output_type": "execute_result"
    }
   ],
   "source": [
    "df_primary_concepts = df_fsn.copy()\n",
    "df_primary_concepts['tui'] = df_primary_concepts['term'].str.extract(r\"\\(([^)]*)\\)[^(]*$\")\n",
    "df_primary_concepts['str'] = df_primary_concepts['term'].str.extract(r\"(^[^\\(]+)\")\n",
    "df_primary_concepts['str'] = df_primary_concepts['str'].str.strip()\n",
    "df_primary_concepts = df_primary_concepts[['conceptId', 'typeId', 'tui', 'str']]\n",
    "\n",
    "# Create CUI-TUI mapping\n",
    "cui_tui_mapping = dict(zip(df_primary_concepts.conceptId, df_primary_concepts.tui))\n",
    "df_primary_concepts.head()"
   ]
  },
  {
   "cell_type": "markdown",
   "id": "nearby-spiritual",
   "metadata": {},
   "source": [
    "### Synonyms"
   ]
  },
  {
   "cell_type": "code",
   "execution_count": 6,
   "id": "joint-providence",
   "metadata": {},
   "outputs": [
    {
     "data": {
      "text/html": [
       "<div>\n",
       "<style scoped>\n",
       "    .dataframe tbody tr th:only-of-type {\n",
       "        vertical-align: middle;\n",
       "    }\n",
       "\n",
       "    .dataframe tbody tr th {\n",
       "        vertical-align: top;\n",
       "    }\n",
       "\n",
       "    .dataframe thead th {\n",
       "        text-align: right;\n",
       "    }\n",
       "</style>\n",
       "<table border=\"1\" class=\"dataframe\">\n",
       "  <thead>\n",
       "    <tr style=\"text-align: right;\">\n",
       "      <th></th>\n",
       "      <th>conceptId</th>\n",
       "      <th>str</th>\n",
       "      <th>typeId</th>\n",
       "      <th>tui</th>\n",
       "    </tr>\n",
       "  </thead>\n",
       "  <tbody>\n",
       "    <tr>\n",
       "      <th>0</th>\n",
       "      <td>702115003</td>\n",
       "      <td>Luer-connector voor intraveneuze lijn en dosee...</td>\n",
       "      <td>900000000000013009</td>\n",
       "      <td>fysiek object</td>\n",
       "    </tr>\n",
       "    <tr>\n",
       "      <th>1</th>\n",
       "      <td>21426000</td>\n",
       "      <td>aandoening van membrana tympani</td>\n",
       "      <td>900000000000013009</td>\n",
       "      <td>aandoening</td>\n",
       "    </tr>\n",
       "    <tr>\n",
       "      <th>2</th>\n",
       "      <td>702115003</td>\n",
       "      <td>Luer-koppelstuk voor intraveneuze lijn en inje...</td>\n",
       "      <td>900000000000013009</td>\n",
       "      <td>fysiek object</td>\n",
       "    </tr>\n",
       "    <tr>\n",
       "      <th>3</th>\n",
       "      <td>286705009</td>\n",
       "      <td>weinig neiging tot schrikken</td>\n",
       "      <td>900000000000013009</td>\n",
       "      <td>bevinding</td>\n",
       "    </tr>\n",
       "    <tr>\n",
       "      <th>6</th>\n",
       "      <td>364985008</td>\n",
       "      <td>bevinding betreffende geleidingspatroon van se...</td>\n",
       "      <td>900000000000013009</td>\n",
       "      <td>bevinding</td>\n",
       "    </tr>\n",
       "    <tr>\n",
       "      <th>...</th>\n",
       "      <td>...</td>\n",
       "      <td>...</td>\n",
       "      <td>...</td>\n",
       "      <td>...</td>\n",
       "    </tr>\n",
       "    <tr>\n",
       "      <th>1432</th>\n",
       "      <td>424489006</td>\n",
       "      <td>mantouxtest</td>\n",
       "      <td>900000000000013009</td>\n",
       "      <td>verrichting</td>\n",
       "    </tr>\n",
       "    <tr>\n",
       "      <th>1433</th>\n",
       "      <td>239987006</td>\n",
       "      <td>haperende vinger</td>\n",
       "      <td>900000000000013009</td>\n",
       "      <td>aandoening</td>\n",
       "    </tr>\n",
       "    <tr>\n",
       "      <th>1434</th>\n",
       "      <td>434912009</td>\n",
       "      <td>bloedsuikerspiegel</td>\n",
       "      <td>900000000000013009</td>\n",
       "      <td>waarneembare entiteit</td>\n",
       "    </tr>\n",
       "    <tr>\n",
       "      <th>1435</th>\n",
       "      <td>395142003</td>\n",
       "      <td>allergietesten</td>\n",
       "      <td>900000000000013009</td>\n",
       "      <td>verrichting</td>\n",
       "    </tr>\n",
       "    <tr>\n",
       "      <th>1436</th>\n",
       "      <td>62742006</td>\n",
       "      <td>berg</td>\n",
       "      <td>900000000000013009</td>\n",
       "      <td>aandoening</td>\n",
       "    </tr>\n",
       "  </tbody>\n",
       "</table>\n",
       "<p>471776 rows × 4 columns</p>\n",
       "</div>"
      ],
      "text/plain": [
       "      conceptId                                                str  \\\n",
       "0     702115003  Luer-connector voor intraveneuze lijn en dosee...   \n",
       "1      21426000                    aandoening van membrana tympani   \n",
       "2     702115003  Luer-koppelstuk voor intraveneuze lijn en inje...   \n",
       "3     286705009                       weinig neiging tot schrikken   \n",
       "6     364985008  bevinding betreffende geleidingspatroon van se...   \n",
       "...         ...                                                ...   \n",
       "1432  424489006                                        mantouxtest   \n",
       "1433  239987006                                   haperende vinger   \n",
       "1434  434912009                                 bloedsuikerspiegel   \n",
       "1435  395142003                                     allergietesten   \n",
       "1436   62742006                                               berg   \n",
       "\n",
       "                  typeId                    tui  \n",
       "0     900000000000013009          fysiek object  \n",
       "1     900000000000013009             aandoening  \n",
       "2     900000000000013009          fysiek object  \n",
       "3     900000000000013009              bevinding  \n",
       "6     900000000000013009              bevinding  \n",
       "...                  ...                    ...  \n",
       "1432  900000000000013009            verrichting  \n",
       "1433  900000000000013009             aandoening  \n",
       "1434  900000000000013009  waarneembare entiteit  \n",
       "1435  900000000000013009            verrichting  \n",
       "1436  900000000000013009             aandoening  \n",
       "\n",
       "[471776 rows x 4 columns]"
      ]
     },
     "execution_count": 6,
     "metadata": {},
     "output_type": "execute_result"
    }
   ],
   "source": [
    "# Clean synonym table\n",
    "df_synonym_concepts = df_synonyms.copy()\n",
    "df_synonym_concepts = df_synonym_concepts[['conceptId', 'term', 'typeId']]\n",
    "df_synonym_concepts.rename({'term': 'str'}, inplace=True, axis=1)\n",
    "\n",
    "# Add TUI to synonyms\n",
    "df_synonym_concepts['tui'] = df_synonym_concepts.conceptId.map(cui_tui_mapping)\n",
    "# df_synonym_concepts[df_synonym_concepts['tui'].isna()].shape\n",
    "# 67 synonyms without type\n",
    "\n",
    "df_synonym_concepts"
   ]
  },
  {
   "cell_type": "markdown",
   "id": "quiet-advancement",
   "metadata": {},
   "source": [
    "### Combined"
   ]
  },
  {
   "cell_type": "code",
   "execution_count": 7,
   "id": "accessory-bristol",
   "metadata": {},
   "outputs": [
    {
     "name": "stdout",
     "output_type": "stream",
     "text": [
      "(703422, 5)\n"
     ]
    },
    {
     "data": {
      "text/html": [
       "<div>\n",
       "<style scoped>\n",
       "    .dataframe tbody tr th:only-of-type {\n",
       "        vertical-align: middle;\n",
       "    }\n",
       "\n",
       "    .dataframe tbody tr th {\n",
       "        vertical-align: top;\n",
       "    }\n",
       "\n",
       "    .dataframe thead th {\n",
       "        text-align: right;\n",
       "    }\n",
       "</style>\n",
       "<table border=\"1\" class=\"dataframe\">\n",
       "  <thead>\n",
       "    <tr style=\"text-align: right;\">\n",
       "      <th></th>\n",
       "      <th>cui</th>\n",
       "      <th>str</th>\n",
       "      <th>tty</th>\n",
       "      <th>tui</th>\n",
       "      <th>sab</th>\n",
       "    </tr>\n",
       "  </thead>\n",
       "  <tbody>\n",
       "    <tr>\n",
       "      <th>143253</th>\n",
       "      <td>103007</td>\n",
       "      <td>eekhoorn-fibroomvirus</td>\n",
       "      <td>PN</td>\n",
       "      <td>organisme</td>\n",
       "      <td>SNOMED-CT-NL</td>\n",
       "    </tr>\n",
       "    <tr>\n",
       "      <th>63097</th>\n",
       "      <td>104001</td>\n",
       "      <td>excisie van afwijkend weefsel van patella</td>\n",
       "      <td>PN</td>\n",
       "      <td>verrichting</td>\n",
       "      <td>SNOMED-CT-NL</td>\n",
       "    </tr>\n",
       "    <tr>\n",
       "      <th>361851</th>\n",
       "      <td>104001</td>\n",
       "      <td>excisie van laesie van knieschijf</td>\n",
       "      <td>SY</td>\n",
       "      <td>verrichting</td>\n",
       "      <td>SNOMED-CT-NL</td>\n",
       "    </tr>\n",
       "    <tr>\n",
       "      <th>18099</th>\n",
       "      <td>106004</td>\n",
       "      <td>structuur van posterieure carpale regio</td>\n",
       "      <td>PN</td>\n",
       "      <td>lichaamsstructuur</td>\n",
       "      <td>SNOMED-CT-NL</td>\n",
       "    </tr>\n",
       "    <tr>\n",
       "      <th>270415</th>\n",
       "      <td>106004</td>\n",
       "      <td>posterieur gebied van handwortel</td>\n",
       "      <td>SY</td>\n",
       "      <td>lichaamsstructuur</td>\n",
       "      <td>SNOMED-CT-NL</td>\n",
       "    </tr>\n",
       "  </tbody>\n",
       "</table>\n",
       "</div>"
      ],
      "text/plain": [
       "           cui                                        str tty  \\\n",
       "143253  103007                      eekhoorn-fibroomvirus  PN   \n",
       "63097   104001  excisie van afwijkend weefsel van patella  PN   \n",
       "361851  104001          excisie van laesie van knieschijf  SY   \n",
       "18099   106004    structuur van posterieure carpale regio  PN   \n",
       "270415  106004           posterieur gebied van handwortel  SY   \n",
       "\n",
       "                      tui           sab  \n",
       "143253          organisme  SNOMED-CT-NL  \n",
       "63097         verrichting  SNOMED-CT-NL  \n",
       "361851        verrichting  SNOMED-CT-NL  \n",
       "18099   lichaamsstructuur  SNOMED-CT-NL  \n",
       "270415  lichaamsstructuur  SNOMED-CT-NL  "
      ]
     },
     "execution_count": 7,
     "metadata": {},
     "output_type": "execute_result"
    }
   ],
   "source": [
    "# Create combined \n",
    "df_all = pd.concat([df_primary_concepts, df_synonym_concepts]).reset_index(drop=True)\n",
    "df_all.rename({'typeId': 'tty', 'conceptId': 'cui'}, inplace=True, axis=1)\n",
    "df_all.tty.replace({'900000000000003001': 'PN',\n",
    "                             '900000000000013009': 'SY'}, inplace=True)\n",
    "df_all['sab'] = 'SNOMED-CT-NL'\n",
    "df_all = df_all[['cui', 'str', 'tty', 'tui', 'sab']]\n",
    "\n",
    "# Drop synonyms that are the same as primary name\n",
    "print(df_all.shape)\n",
    "df_all_unique = df_all.drop(df_all[(df_all.duplicated(subset=['cui', 'str', 'tui'], keep=False)) & (df_all.tty=='SY')].index)\n",
    "\n",
    "# Sort column on cui and tty\n",
    "df_all_unique['cui'] = df_all_unique['cui'].astype(int)\n",
    "df_all_unique.sort_values(['cui', 'tty'], inplace=True)\n",
    "\n",
    "df_all_unique.head()"
   ]
  },
  {
   "cell_type": "markdown",
   "id": "dimensional-judges",
   "metadata": {},
   "source": [
    "### Examples"
   ]
  },
  {
   "cell_type": "code",
   "execution_count": 8,
   "id": "diverse-republic",
   "metadata": {},
   "outputs": [
    {
     "data": {
      "text/html": [
       "<div>\n",
       "<style scoped>\n",
       "    .dataframe tbody tr th:only-of-type {\n",
       "        vertical-align: middle;\n",
       "    }\n",
       "\n",
       "    .dataframe tbody tr th {\n",
       "        vertical-align: top;\n",
       "    }\n",
       "\n",
       "    .dataframe thead th {\n",
       "        text-align: right;\n",
       "    }\n",
       "</style>\n",
       "<table border=\"1\" class=\"dataframe\">\n",
       "  <thead>\n",
       "    <tr style=\"text-align: right;\">\n",
       "      <th></th>\n",
       "      <th>cui</th>\n",
       "      <th>str</th>\n",
       "      <th>tty</th>\n",
       "      <th>tui</th>\n",
       "      <th>sab</th>\n",
       "    </tr>\n",
       "  </thead>\n",
       "  <tbody>\n",
       "    <tr>\n",
       "      <th>492902</th>\n",
       "      <td>86044005</td>\n",
       "      <td>ALS</td>\n",
       "      <td>SY</td>\n",
       "      <td>aandoening</td>\n",
       "      <td>SNOMED-CT-NL</td>\n",
       "    </tr>\n",
       "  </tbody>\n",
       "</table>\n",
       "</div>"
      ],
      "text/plain": [
       "             cui  str tty         tui           sab\n",
       "492902  86044005  ALS  SY  aandoening  SNOMED-CT-NL"
      ]
     },
     "execution_count": 8,
     "metadata": {},
     "output_type": "execute_result"
    }
   ],
   "source": [
    "df_all_unique[df_all_unique.str == 'ALS']"
   ]
  },
  {
   "cell_type": "code",
   "execution_count": 9,
   "id": "bored-celebrity",
   "metadata": {},
   "outputs": [
    {
     "data": {
      "text/html": [
       "<div>\n",
       "<style scoped>\n",
       "    .dataframe tbody tr th:only-of-type {\n",
       "        vertical-align: middle;\n",
       "    }\n",
       "\n",
       "    .dataframe tbody tr th {\n",
       "        vertical-align: top;\n",
       "    }\n",
       "\n",
       "    .dataframe thead th {\n",
       "        text-align: right;\n",
       "    }\n",
       "</style>\n",
       "<table border=\"1\" class=\"dataframe\">\n",
       "  <thead>\n",
       "    <tr style=\"text-align: right;\">\n",
       "      <th></th>\n",
       "      <th>cui</th>\n",
       "      <th>str</th>\n",
       "      <th>tty</th>\n",
       "      <th>tui</th>\n",
       "      <th>sab</th>\n",
       "    </tr>\n",
       "  </thead>\n",
       "  <tbody>\n",
       "  </tbody>\n",
       "</table>\n",
       "</div>"
      ],
      "text/plain": [
       "Empty DataFrame\n",
       "Columns: [cui, str, tty, tui, sab]\n",
       "Index: []"
      ]
     },
     "execution_count": 9,
     "metadata": {},
     "output_type": "execute_result"
    }
   ],
   "source": [
    "df_all_unique[df_all_unique.cui == '86044005']"
   ]
  },
  {
   "cell_type": "code",
   "execution_count": 10,
   "id": "imposed-nickname",
   "metadata": {},
   "outputs": [
    {
     "data": {
      "text/html": [
       "<div>\n",
       "<style scoped>\n",
       "    .dataframe tbody tr th:only-of-type {\n",
       "        vertical-align: middle;\n",
       "    }\n",
       "\n",
       "    .dataframe tbody tr th {\n",
       "        vertical-align: top;\n",
       "    }\n",
       "\n",
       "    .dataframe thead th {\n",
       "        text-align: right;\n",
       "    }\n",
       "</style>\n",
       "<table border=\"1\" class=\"dataframe\">\n",
       "  <thead>\n",
       "    <tr style=\"text-align: right;\">\n",
       "      <th></th>\n",
       "      <th>cui</th>\n",
       "      <th>str</th>\n",
       "      <th>tty</th>\n",
       "      <th>tui</th>\n",
       "      <th>sab</th>\n",
       "    </tr>\n",
       "  </thead>\n",
       "  <tbody>\n",
       "    <tr>\n",
       "      <th>702967</th>\n",
       "      <td>93880001</td>\n",
       "      <td>longkanker</td>\n",
       "      <td>SY</td>\n",
       "      <td>aandoening</td>\n",
       "      <td>SNOMED-CT-NL</td>\n",
       "    </tr>\n",
       "  </tbody>\n",
       "</table>\n",
       "</div>"
      ],
      "text/plain": [
       "             cui         str tty         tui           sab\n",
       "702967  93880001  longkanker  SY  aandoening  SNOMED-CT-NL"
      ]
     },
     "execution_count": 10,
     "metadata": {},
     "output_type": "execute_result"
    }
   ],
   "source": [
    "df_all_unique[df_all_unique.str == 'longkanker']"
   ]
  },
  {
   "cell_type": "code",
   "execution_count": 11,
   "id": "developing-berkeley",
   "metadata": {},
   "outputs": [
    {
     "data": {
      "text/html": [
       "<div>\n",
       "<style scoped>\n",
       "    .dataframe tbody tr th:only-of-type {\n",
       "        vertical-align: middle;\n",
       "    }\n",
       "\n",
       "    .dataframe tbody tr th {\n",
       "        vertical-align: top;\n",
       "    }\n",
       "\n",
       "    .dataframe thead th {\n",
       "        text-align: right;\n",
       "    }\n",
       "</style>\n",
       "<table border=\"1\" class=\"dataframe\">\n",
       "  <thead>\n",
       "    <tr style=\"text-align: right;\">\n",
       "      <th></th>\n",
       "      <th>cui</th>\n",
       "      <th>str</th>\n",
       "      <th>tty</th>\n",
       "      <th>tui</th>\n",
       "      <th>sab</th>\n",
       "    </tr>\n",
       "  </thead>\n",
       "  <tbody>\n",
       "  </tbody>\n",
       "</table>\n",
       "</div>"
      ],
      "text/plain": [
       "Empty DataFrame\n",
       "Columns: [cui, str, tty, tui, sab]\n",
       "Index: []"
      ]
     },
     "execution_count": 11,
     "metadata": {},
     "output_type": "execute_result"
    }
   ],
   "source": [
    "df_all_unique[df_all_unique.cui == '93880001']"
   ]
  },
  {
   "cell_type": "code",
   "execution_count": 12,
   "id": "thermal-shoulder",
   "metadata": {},
   "outputs": [
    {
     "data": {
      "text/html": [
       "<div>\n",
       "<style scoped>\n",
       "    .dataframe tbody tr th:only-of-type {\n",
       "        vertical-align: middle;\n",
       "    }\n",
       "\n",
       "    .dataframe tbody tr th {\n",
       "        vertical-align: top;\n",
       "    }\n",
       "\n",
       "    .dataframe thead th {\n",
       "        text-align: right;\n",
       "    }\n",
       "</style>\n",
       "<table border=\"1\" class=\"dataframe\">\n",
       "  <thead>\n",
       "    <tr style=\"text-align: right;\">\n",
       "      <th></th>\n",
       "      <th>cui</th>\n",
       "      <th>str</th>\n",
       "      <th>tty</th>\n",
       "      <th>tui</th>\n",
       "      <th>sab</th>\n",
       "    </tr>\n",
       "  </thead>\n",
       "  <tbody>\n",
       "  </tbody>\n",
       "</table>\n",
       "</div>"
      ],
      "text/plain": [
       "Empty DataFrame\n",
       "Columns: [cui, str, tty, tui, sab]\n",
       "Index: []"
      ]
     },
     "execution_count": 12,
     "metadata": {},
     "output_type": "execute_result"
    }
   ],
   "source": [
    "df_all_unique[df_all_unique.cui == '22298006']"
   ]
  },
  {
   "cell_type": "code",
   "execution_count": 13,
   "id": "numeric-combining",
   "metadata": {},
   "outputs": [
    {
     "data": {
      "text/html": [
       "<div>\n",
       "<style scoped>\n",
       "    .dataframe tbody tr th:only-of-type {\n",
       "        vertical-align: middle;\n",
       "    }\n",
       "\n",
       "    .dataframe tbody tr th {\n",
       "        vertical-align: top;\n",
       "    }\n",
       "\n",
       "    .dataframe thead th {\n",
       "        text-align: right;\n",
       "    }\n",
       "</style>\n",
       "<table border=\"1\" class=\"dataframe\">\n",
       "  <thead>\n",
       "    <tr style=\"text-align: right;\">\n",
       "      <th></th>\n",
       "      <th>cui</th>\n",
       "      <th>str</th>\n",
       "      <th>tty</th>\n",
       "      <th>tui</th>\n",
       "      <th>sab</th>\n",
       "    </tr>\n",
       "  </thead>\n",
       "  <tbody>\n",
       "    <tr>\n",
       "      <th>113111</th>\n",
       "      <td>387381009</td>\n",
       "      <td>methotrexaat</td>\n",
       "      <td>PN</td>\n",
       "      <td>substantie</td>\n",
       "      <td>SNOMED-CT-NL</td>\n",
       "    </tr>\n",
       "  </tbody>\n",
       "</table>\n",
       "</div>"
      ],
      "text/plain": [
       "              cui           str tty         tui           sab\n",
       "113111  387381009  methotrexaat  PN  substantie  SNOMED-CT-NL"
      ]
     },
     "execution_count": 13,
     "metadata": {},
     "output_type": "execute_result"
    }
   ],
   "source": [
    "df_all_unique[df_all_unique.str == 'methotrexaat']"
   ]
  },
  {
   "cell_type": "code",
   "execution_count": 14,
   "id": "widespread-juvenile",
   "metadata": {},
   "outputs": [
    {
     "data": {
      "text/html": [
       "<div>\n",
       "<style scoped>\n",
       "    .dataframe tbody tr th:only-of-type {\n",
       "        vertical-align: middle;\n",
       "    }\n",
       "\n",
       "    .dataframe tbody tr th {\n",
       "        vertical-align: top;\n",
       "    }\n",
       "\n",
       "    .dataframe thead th {\n",
       "        text-align: right;\n",
       "    }\n",
       "</style>\n",
       "<table border=\"1\" class=\"dataframe\">\n",
       "  <thead>\n",
       "    <tr style=\"text-align: right;\">\n",
       "      <th></th>\n",
       "      <th>cui</th>\n",
       "      <th>str</th>\n",
       "      <th>tty</th>\n",
       "      <th>tui</th>\n",
       "      <th>sab</th>\n",
       "    </tr>\n",
       "  </thead>\n",
       "  <tbody>\n",
       "    <tr>\n",
       "      <th>113111</th>\n",
       "      <td>387381009</td>\n",
       "      <td>methotrexaat</td>\n",
       "      <td>PN</td>\n",
       "      <td>substantie</td>\n",
       "      <td>SNOMED-CT-NL</td>\n",
       "    </tr>\n",
       "    <tr>\n",
       "      <th>475744</th>\n",
       "      <td>387381009</td>\n",
       "      <td>MTX</td>\n",
       "      <td>SY</td>\n",
       "      <td>substantie</td>\n",
       "      <td>SNOMED-CT-NL</td>\n",
       "    </tr>\n",
       "  </tbody>\n",
       "</table>\n",
       "</div>"
      ],
      "text/plain": [
       "              cui           str tty         tui           sab\n",
       "113111  387381009  methotrexaat  PN  substantie  SNOMED-CT-NL\n",
       "475744  387381009           MTX  SY  substantie  SNOMED-CT-NL"
      ]
     },
     "execution_count": 14,
     "metadata": {},
     "output_type": "execute_result"
    }
   ],
   "source": [
    "df_all_unique[df_all_unique.cui == 387381009]"
   ]
  },
  {
   "cell_type": "markdown",
   "id": "centered-malpractice",
   "metadata": {},
   "source": [
    "## Evaluation of SNOMED types"
   ]
  },
  {
   "cell_type": "markdown",
   "id": "fatal-carpet",
   "metadata": {},
   "source": [
    "Find which types are present, and then manually check the performance of the types by looking at a set of cardiology letters."
   ]
  },
  {
   "cell_type": "code",
   "execution_count": 25,
   "id": "latter-bearing",
   "metadata": {},
   "outputs": [
    {
     "data": {
      "text/plain": [
       "aandoening                     152084\n",
       "verrichting                    113231\n",
       "lichaamsstructuur               88652\n",
       "bevinding                       38894\n",
       "organisme                       23197\n",
       "fysiek object                   13162\n",
       "substantie                      10435\n",
       "afwijkende morfologie            9640\n",
       "situatie                         7017\n",
       "regime/therapie                  4980\n",
       "gebeurtenis                      3522\n",
       "monster                          3451\n",
       "beroep                           3265\n",
       "kwalificatiewaarde               2595\n",
       "cel                              1607\n",
       "omgeving                         1583\n",
       "celstructuur                     1107\n",
       "persoon                           679\n",
       "waarneembare entiteit             572\n",
       "eigenschap                        553\n",
       "gegevensobject                    456\n",
       "metadata                          388\n",
       "fysische kracht                   285\n",
       "religie/filosofie                 260\n",
       "attribuut                         140\n",
       "foundation metadata concept       117\n",
       "product                            79\n",
       "beoordelingsschaal                 39\n",
       "lifestyle                          26\n",
       "sociaal concept                    25\n",
       "ras                                19\n",
       "inactief concept                   13\n",
       "tumorgradering                      7\n",
       "disorder                            6\n",
       "navigatieconcept                    3\n",
       "procedure                           2\n",
       "physical object                     2\n",
       "omgeving/locatie                    1\n",
       "gradering                           1\n",
       "speciaal concept                    1\n",
       "Name: tui, dtype: int64"
      ]
     },
     "execution_count": 25,
     "metadata": {},
     "output_type": "execute_result"
    }
   ],
   "source": [
    "df_all_unique.tui.value_counts()"
   ]
  },
  {
   "cell_type": "code",
   "execution_count": 31,
   "id": "respected-fusion",
   "metadata": {},
   "outputs": [
    {
     "data": {
      "text/plain": [
       "482163"
      ]
     },
     "execution_count": 31,
     "metadata": {},
     "output_type": "execute_result"
    }
   ],
   "source": [
    "# Total number of concepts\n",
    "df_all_unique.shape[0]"
   ]
  },
  {
   "cell_type": "code",
   "execution_count": 33,
   "id": "compact-colon",
   "metadata": {},
   "outputs": [
    {
     "data": {
      "text/plain": [
       "(231646, 5)"
      ]
     },
     "execution_count": 33,
     "metadata": {},
     "output_type": "execute_result"
    }
   ],
   "source": [
    "# Number of primary concepts\n",
    "df_all_unique[df_all_unique.tty == 'PN'].shape"
   ]
  },
  {
   "cell_type": "code",
   "execution_count": 36,
   "id": "professional-spare",
   "metadata": {},
   "outputs": [
    {
     "data": {
      "text/plain": [
       "(250517, 5)"
      ]
     },
     "execution_count": 36,
     "metadata": {},
     "output_type": "execute_result"
    }
   ],
   "source": [
    "# Number of synonyms\n",
    "df_all_unique[df_all_unique.tty == 'SY'].shape"
   ]
  },
  {
   "cell_type": "markdown",
   "id": "parliamentary-supplier",
   "metadata": {},
   "source": [
    "| tui | summary | good examples | bad examples |\n",
    "| :- | :- | :- | :-|\n",
    "|aandoening |good|hypertensie, boezemfibrilleren, av-blok| |\n",
    "|monster|good|trombocyten, leukocyten,basofiele granulocyten||\n",
    "|regime/therapie|good|fysiotherapie, hartrevalidatie, therapie||\n",
    "|waarneembare entities|good|leeftijd, bloeddruk, hartas, LVEF||\n",
    "|bevinding|good|koorts, zwelling, tachycardie||\n",
    "|attribuut|good|bij, na||\n",
    "|kwalificatiewaarde|good|ontslag, beloop, gestaakt, geen||\n",
    "|cel|good, but rare|erythrocytes||\n",
    "|gegevensobject|good, but rare| Echocardiogram, operatieverslag||\n",
    "|sociaal concept|good, but rare|familie||\n",
    "|situatie|good, but includes negation|geen pijn, geen dispneu, geen hoesten||\n",
    "|verrichting |decent|lokale anesthesie, lichamelijk onderzoek, palpatie|erg (elektroretinografie), weken, post (peritoneale transfer van eicel en sperma), beleid (management)|\n",
    "|substantie|decent|nebivolol, amlodipine, ceftriaxon|wortel, PM (fijnstof)|\n",
    "|omgeving|decent|ziekenhuis, polikliniek, huis, afdeling cardiologie, afdeling fysiologie|meer, stroop, plaats|\n",
    "|lichaamsstructuur|decent|pols, aortaklep, AV-knoop|mid (mesioincisodistale vlakken van gebitselement)|\n",
    "|persoon|decent|patient, dochter, vader|bekende (kennis)|\n",
    "|fysische kracht|decent, but rare|druk||\n",
    "|fysiek object|discutable, but rare|pacemaker|verband|\n",
    "|afwijkende morfologie|bad|||\n",
    "|beroep|bad||rechter, belang (behanger), herkende (werkende)|\n",
    "|metadata|bad||beeld|\n",
    "|gebeurtenis|bad, only 1 term matched||het (hoog energetisch trauma)|\n",
    "\n",
    "Terms that were never found: omgeving/locatie, organisme, physical object: fout, religie/filosofie, product, disorder, navigatieconcept, lifestyle, procedure, gradering, tumorgradering, beoordelingsschaal, inactief concept, speciaal concept, ras, foundation metadata concept, physical object, eigenschap, celstructuur"
   ]
  },
  {
   "cell_type": "code",
   "execution_count": 19,
   "id": "virgin-stupid",
   "metadata": {},
   "outputs": [],
   "source": [
    "# Define list of relevant terms for general use\n",
    "relevant_tuis = ['aandoening',\n",
    "                'monster',\n",
    "                'regime/therapie',\n",
    "                'bevinding',\n",
    "                'cel',\n",
    "                'gegevensobject',\n",
    "                'verrichting',\n",
    "                'substantie',\n",
    "                'lichaamsstructuur']"
   ]
  },
  {
   "cell_type": "code",
   "execution_count": 27,
   "id": "declared-suggestion",
   "metadata": {},
   "outputs": [
    {
     "data": {
      "text/plain": [
       "aandoening           152084\n",
       "verrichting          113231\n",
       "lichaamsstructuur     88652\n",
       "bevinding             38894\n",
       "substantie            10435\n",
       "regime/therapie        4980\n",
       "monster                3451\n",
       "cel                    1607\n",
       "gegevensobject          456\n",
       "Name: tui, dtype: int64"
      ]
     },
     "execution_count": 27,
     "metadata": {},
     "output_type": "execute_result"
    }
   ],
   "source": [
    "df_all_unique[df_all_unique.tui.isin(relevant_tuis)].tui.value_counts()"
   ]
  },
  {
   "cell_type": "code",
   "execution_count": 28,
   "id": "possible-bulgarian",
   "metadata": {},
   "outputs": [
    {
     "data": {
      "text/plain": [
       "413790"
      ]
     },
     "execution_count": 28,
     "metadata": {},
     "output_type": "execute_result"
    }
   ],
   "source": [
    "df_all_unique[df_all_unique.tui.isin(relevant_tuis)].shape[0]"
   ]
  },
  {
   "cell_type": "markdown",
   "id": "interstate-dependence",
   "metadata": {},
   "source": [
    "## Output"
   ]
  },
  {
   "cell_type": "code",
   "execution_count": 20,
   "id": "continent-composer",
   "metadata": {},
   "outputs": [],
   "source": [
    "# Save to file\n",
    "df_all_unique.to_csv('snomedct-dutch_v1.0-complete.csv', index=False)\n",
    "df_all_unique[df_all_unique.tui.isin(relevant_tuis)].to_csv('snomedct-dutch_v1.0.csv', index=False)"
   ]
  },
  {
   "cell_type": "code",
   "execution_count": null,
   "id": "informal-usage",
   "metadata": {},
   "outputs": [],
   "source": []
  }
 ],
 "metadata": {
  "kernelspec": {
   "display_name": "Python 3",
   "language": "python",
   "name": "python3"
  },
  "language_info": {
   "codemirror_mode": {
    "name": "ipython",
    "version": 3
   },
   "file_extension": ".py",
   "mimetype": "text/x-python",
   "name": "python",
   "nbconvert_exporter": "python",
   "pygments_lexer": "ipython3",
   "version": "3.8.5"
  }
 },
 "nbformat": 4,
 "nbformat_minor": 5
}
