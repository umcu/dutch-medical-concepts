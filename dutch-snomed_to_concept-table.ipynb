{
 "cells": [
  {
   "cell_type": "code",
   "execution_count": 1,
   "id": "compound-seller",
   "metadata": {},
   "outputs": [],
   "source": [
    "import pandas as pd\n",
    "import numpy as np\n",
    "import json\n",
    "import re\n",
    "import os"
   ]
  },
  {
   "cell_type": "markdown",
   "id": "needed-prospect",
   "metadata": {},
   "source": [
    "\n",
    "## Sources files\n",
    "\n",
    "To count total number of records in the SNOMED files, use `wc -l` and substract 1 for header.\n",
    "```bash\n",
    "wc -l SnomedCT_Netherlands_*_PRODUCTION_20210930T120000Z/Snapshot/Terminology/sct2_Description_*.txt\n",
    "```\n",
    "\n",
    "To count number of NL records in the SNOMED files, use `grep` and `wc -l`.\n",
    "```bash\n",
    "grep \"\\tnl\\t\" SnomedCT_Netherlands_EditionRelease_PRODUCTION_20210930T120000Z/Snapshot/Terminology/sct2_Description_Snapshot_NL_20210930.txt | wc -l\n",
    "```\n",
    "\n",
    "### SNOMED September 2020 release\n",
    "| Edition | Total names | NL names | Description |\n",
    "| - | - | - | - |\n",
    "| Edition | 2263140 | 736619 | Include international SNOMED |\n",
    "| Extension | 770016 | 736619 | Some terms are only in English |\n",
    "| Patient Friendly | 1437 | 1437 | Small but potentially useful list of synonyms |"
   ]
  },
  {
   "cell_type": "markdown",
   "id": "b1da9ee8",
   "metadata": {},
   "source": [
    "### SNOMED March 2021 release\n",
    "\n",
    "| Edition | Total names | NL names | Description |\n",
    "| - | - | - | - |\n",
    "| Edition | 2422738 | 880806 | Include international SNOMED |\n",
    "| Extension | 916553 | 880806 | Some terms are only in English |\n",
    "| Patient Friendly | 2004 | 2004 | Small but potentially useful list of synonyms |"
   ]
  },
  {
   "cell_type": "markdown",
   "id": "9c9cc897",
   "metadata": {},
   "source": [
    "### SNOMED September 2021 release\n",
    "\n",
    "| Edition | Total names | NL names | Description |\n",
    "| - | - | - | - |\n",
    "| Edition | 2469845 | 910228 | Include international SNOMED |\n",
    "| Extension | 948571 | 910228 | Some terms are only in English |\n",
    "| Patient Friendly | 2385 | 2385 | Small but potentially useful list of synonyms |"
   ]
  },
  {
   "cell_type": "markdown",
   "id": "1667031d",
   "metadata": {},
   "source": [
    "The \"Edition\" contains many English names, so for our Dutch concept table we will use the \"Extention\" and \"Patient Friendly\" terms."
   ]
  },
  {
   "cell_type": "code",
   "execution_count": 2,
   "id": "tight-cooking",
   "metadata": {},
   "outputs": [],
   "source": [
    "def parse_file(filename):\n",
    "    with open(filename, encoding='utf-8') as f:\n",
    "        entities = [[n.strip() for n in line.split('\\t')] for line in f]\n",
    "        return pd.DataFrame(entities[1:], columns=entities[0])"
   ]
  },
  {
   "cell_type": "code",
   "execution_count": 3,
   "id": "vietnamese-dining",
   "metadata": {},
   "outputs": [],
   "source": [
    "snomed_dir = '/Users/stan3/Data/snomed'\n",
    "release_date = '20210930'\n",
    "nl_ed_term = os.path.join(snomed_dir, f'SnomedCT_Netherlands_EditionRelease_PRODUCTION_{release_date}T120000Z/Snapshot/Terminology/sct2_Description_Snapshot_NL_{release_date}.txt')\n",
    "nl_ex_term = os.path.join(snomed_dir, f'SnomedCT_Netherlands_ExtensionRelease_PRODUCTION_{release_date}T120000Z/Snapshot/Terminology/sct2_Description_Snapshot_NL_{release_date}.txt')\n",
    "nl_pf_term = os.path.join(snomed_dir, f'SnomedCT_Netherlands_PatientFriendlyExtensionRelease_PRODUCTION_{release_date}T120000Z/Snapshot/Terminology/sct2_Description_Snapshot_NL-PatientFriendly_{release_date}.txt')"
   ]
  },
  {
   "cell_type": "markdown",
   "id": "dependent-variable",
   "metadata": {},
   "source": [
    "### Description type\n",
    "The SNOMED description table contains 3 types:\n",
    "\n",
    "|Type id|Term|\n",
    "|-|-|\n",
    "|900000000000003001|Fully specified name (FSN)|\n",
    "|900000000000013009|Synonym|\n",
    "|900000000000550004|Definition|\n",
    "\n",
    "The the purpose of creating a list of names for entity recognation, terms must be:\n",
    "- FSN or Synonym\n",
    "- Active\n",
    "- Dutch"
   ]
  },
  {
   "cell_type": "code",
   "execution_count": 4,
   "id": "remarkable-trader",
   "metadata": {},
   "outputs": [
    {
     "name": "stdout",
     "output_type": "stream",
     "text": [
      "Extention Release Active: 848195\n",
      "Extention Release Inactive: 62033\n",
      "\n",
      "Extention Release Active FSN: 274887\n",
      "Extention Release Active Synonyms: 573308\n",
      "\n",
      "Patient Friendly Extention release Active: 2168\n",
      "Patient Friendly Extention release Inactive: 210\n",
      "\n",
      "Total synonyms: (Extention Release synonyms & Patient Friendly): 575476\n"
     ]
    }
   ],
   "source": [
    "# Select active terms from Extention release\n",
    "df_ex = parse_file(nl_ex_term)\n",
    "df_ex_active = df_ex[(df_ex.languageCode == 'nl') & (df_ex.active == '1')].copy()\n",
    "df_ex_inactive = df_ex[(df_ex.languageCode == 'nl') & (df_ex.active != '1')]\n",
    "print(f'Extention Release Active: {df_ex_active.shape[0]}')\n",
    "print(f'Extention Release Inactive: {df_ex_inactive.shape[0]}\\n')\n",
    "\n",
    "# Extract fully specified names\n",
    "df_fsn = df_ex_active[(df_ex_active.typeId == '900000000000003001')]\n",
    "print(f'Extention Release Active FSN: {df_fsn.shape[0]}')\n",
    "\n",
    "# Extract synonyms\n",
    "df_ex_synonyms = df_ex_active[(df_ex_active.typeId == '900000000000013009')].copy()\n",
    "print(f'Extention Release Active Synonyms: {df_ex_synonyms.shape[0]}\\n')\n",
    "\n",
    "# Select active terms from patient friendly extention release\n",
    "df_pf = parse_file(nl_pf_term)\n",
    "df_pf_active = df_pf[(df_pf.typeId == '900000000000013009') & (df_pf.active == '1')].copy()\n",
    "df_pf_inactive = df_pf[(df_pf.typeId == '900000000000013009') & (df_pf.active == '0')]\n",
    "print(f'Patient Friendly Extention release Active: {df_pf_active.shape[0]}')\n",
    "print(f'Patient Friendly Extention release Inactive: {df_pf_inactive.shape[0]}\\n')\n",
    "\n",
    "# Merge synonyms and patient friendly terms as synonyms in our Concept table\n",
    "df_synonyms = pd.concat([df_ex_synonyms,\n",
    "                         df_pf_active])\n",
    "print(f'Total synonyms: (Extention Release synonyms & Patient Friendly): {df_synonyms.shape[0]}')"
   ]
  },
  {
   "cell_type": "markdown",
   "id": "written-remains",
   "metadata": {},
   "source": [
    "### Primary concepts"
   ]
  },
  {
   "cell_type": "code",
   "execution_count": 5,
   "id": "diagnostic-interview",
   "metadata": {},
   "outputs": [
    {
     "data": {
      "text/html": [
       "<div>\n",
       "<style scoped>\n",
       "    .dataframe tbody tr th:only-of-type {\n",
       "        vertical-align: middle;\n",
       "    }\n",
       "\n",
       "    .dataframe tbody tr th {\n",
       "        vertical-align: top;\n",
       "    }\n",
       "\n",
       "    .dataframe thead th {\n",
       "        text-align: right;\n",
       "    }\n",
       "</style>\n",
       "<table border=\"1\" class=\"dataframe\">\n",
       "  <thead>\n",
       "    <tr style=\"text-align: right;\">\n",
       "      <th></th>\n",
       "      <th>conceptId</th>\n",
       "      <th>typeId</th>\n",
       "      <th>tui</th>\n",
       "      <th>str</th>\n",
       "    </tr>\n",
       "  </thead>\n",
       "  <tbody>\n",
       "    <tr>\n",
       "      <th>4</th>\n",
       "      <td>697920006</td>\n",
       "      <td>900000000000003001</td>\n",
       "      <td>aandoening</td>\n",
       "      <td>pulmonale hypertensie bij systeemziekte</td>\n",
       "    </tr>\n",
       "    <tr>\n",
       "      <th>7</th>\n",
       "      <td>286705009</td>\n",
       "      <td>900000000000003001</td>\n",
       "      <td>bevinding</td>\n",
       "      <td>weinig neiging tot schrikken</td>\n",
       "    </tr>\n",
       "    <tr>\n",
       "      <th>8</th>\n",
       "      <td>364985008</td>\n",
       "      <td>900000000000003001</td>\n",
       "      <td>bevinding</td>\n",
       "      <td>bevinding betreffende geleidingspatroon van se...</td>\n",
       "    </tr>\n",
       "    <tr>\n",
       "      <th>12</th>\n",
       "      <td>299304009</td>\n",
       "      <td>900000000000003001</td>\n",
       "      <td>bevinding</td>\n",
       "      <td>verminderde 'range of motion' bij passieve exo...</td>\n",
       "    </tr>\n",
       "    <tr>\n",
       "      <th>18</th>\n",
       "      <td>278238002</td>\n",
       "      <td>900000000000003001</td>\n",
       "      <td>bevinding</td>\n",
       "      <td>focale vertraging van gemengde zenuwgeleiding</td>\n",
       "    </tr>\n",
       "  </tbody>\n",
       "</table>\n",
       "</div>"
      ],
      "text/plain": [
       "    conceptId              typeId         tui  \\\n",
       "4   697920006  900000000000003001  aandoening   \n",
       "7   286705009  900000000000003001   bevinding   \n",
       "8   364985008  900000000000003001   bevinding   \n",
       "12  299304009  900000000000003001   bevinding   \n",
       "18  278238002  900000000000003001   bevinding   \n",
       "\n",
       "                                                  str  \n",
       "4             pulmonale hypertensie bij systeemziekte  \n",
       "7                        weinig neiging tot schrikken  \n",
       "8   bevinding betreffende geleidingspatroon van se...  \n",
       "12  verminderde 'range of motion' bij passieve exo...  \n",
       "18      focale vertraging van gemengde zenuwgeleiding  "
      ]
     },
     "execution_count": 5,
     "metadata": {},
     "output_type": "execute_result"
    }
   ],
   "source": [
    "df_primary_concepts = df_fsn.copy()\n",
    "df_primary_concepts['tui'] = df_primary_concepts['term'].str.extract(r\"\\(([^)]*)\\)[^(]*$\")\n",
    "df_primary_concepts['str'] = df_primary_concepts['term'].str.extract(r\"(^[^\\(]+)\")\n",
    "df_primary_concepts['str'] = df_primary_concepts['str'].str.strip()\n",
    "df_primary_concepts = df_primary_concepts[['conceptId', 'typeId', 'tui', 'str']]\n",
    "\n",
    "# Create CUI-TUI mapping\n",
    "cui_tui_mapping = dict(zip(df_primary_concepts.conceptId, df_primary_concepts.tui))\n",
    "df_primary_concepts.head()"
   ]
  },
  {
   "cell_type": "markdown",
   "id": "nearby-spiritual",
   "metadata": {},
   "source": [
    "### Synonyms"
   ]
  },
  {
   "cell_type": "code",
   "execution_count": 6,
   "id": "joint-providence",
   "metadata": {},
   "outputs": [
    {
     "data": {
      "text/html": [
       "<div>\n",
       "<style scoped>\n",
       "    .dataframe tbody tr th:only-of-type {\n",
       "        vertical-align: middle;\n",
       "    }\n",
       "\n",
       "    .dataframe tbody tr th {\n",
       "        vertical-align: top;\n",
       "    }\n",
       "\n",
       "    .dataframe thead th {\n",
       "        text-align: right;\n",
       "    }\n",
       "</style>\n",
       "<table border=\"1\" class=\"dataframe\">\n",
       "  <thead>\n",
       "    <tr style=\"text-align: right;\">\n",
       "      <th></th>\n",
       "      <th>conceptId</th>\n",
       "      <th>str</th>\n",
       "      <th>typeId</th>\n",
       "      <th>tui</th>\n",
       "    </tr>\n",
       "  </thead>\n",
       "  <tbody>\n",
       "    <tr>\n",
       "      <th>0</th>\n",
       "      <td>702115003</td>\n",
       "      <td>Luer-connector voor intraveneuze lijn en dosee...</td>\n",
       "      <td>900000000000013009</td>\n",
       "      <td>fysiek object</td>\n",
       "    </tr>\n",
       "    <tr>\n",
       "      <th>1</th>\n",
       "      <td>21426000</td>\n",
       "      <td>aandoening van membrana tympani</td>\n",
       "      <td>900000000000013009</td>\n",
       "      <td>aandoening</td>\n",
       "    </tr>\n",
       "    <tr>\n",
       "      <th>2</th>\n",
       "      <td>702115003</td>\n",
       "      <td>Luer-koppelstuk voor intraveneuze lijn en inje...</td>\n",
       "      <td>900000000000013009</td>\n",
       "      <td>fysiek object</td>\n",
       "    </tr>\n",
       "    <tr>\n",
       "      <th>3</th>\n",
       "      <td>697920006</td>\n",
       "      <td>pulmonale hypertensie bij systeemziekte</td>\n",
       "      <td>900000000000013009</td>\n",
       "      <td>aandoening</td>\n",
       "    </tr>\n",
       "    <tr>\n",
       "      <th>5</th>\n",
       "      <td>697920006</td>\n",
       "      <td>pulmonale hypertensie bij systemische ziekte</td>\n",
       "      <td>900000000000013009</td>\n",
       "      <td>aandoening</td>\n",
       "    </tr>\n",
       "    <tr>\n",
       "      <th>...</th>\n",
       "      <td>...</td>\n",
       "      <td>...</td>\n",
       "      <td>...</td>\n",
       "      <td>...</td>\n",
       "    </tr>\n",
       "    <tr>\n",
       "      <th>2380</th>\n",
       "      <td>424489006</td>\n",
       "      <td>mantouxtest</td>\n",
       "      <td>900000000000013009</td>\n",
       "      <td>verrichting</td>\n",
       "    </tr>\n",
       "    <tr>\n",
       "      <th>2381</th>\n",
       "      <td>239987006</td>\n",
       "      <td>haperende vinger</td>\n",
       "      <td>900000000000013009</td>\n",
       "      <td>aandoening</td>\n",
       "    </tr>\n",
       "    <tr>\n",
       "      <th>2382</th>\n",
       "      <td>434912009</td>\n",
       "      <td>bloedsuikerspiegel</td>\n",
       "      <td>900000000000013009</td>\n",
       "      <td>waarneembare entiteit</td>\n",
       "    </tr>\n",
       "    <tr>\n",
       "      <th>2383</th>\n",
       "      <td>395142003</td>\n",
       "      <td>allergietesten</td>\n",
       "      <td>900000000000013009</td>\n",
       "      <td>verrichting</td>\n",
       "    </tr>\n",
       "    <tr>\n",
       "      <th>2384</th>\n",
       "      <td>62742006</td>\n",
       "      <td>berg</td>\n",
       "      <td>900000000000013009</td>\n",
       "      <td>aandoening</td>\n",
       "    </tr>\n",
       "  </tbody>\n",
       "</table>\n",
       "<p>575476 rows × 4 columns</p>\n",
       "</div>"
      ],
      "text/plain": [
       "      conceptId                                                str  \\\n",
       "0     702115003  Luer-connector voor intraveneuze lijn en dosee...   \n",
       "1      21426000                    aandoening van membrana tympani   \n",
       "2     702115003  Luer-koppelstuk voor intraveneuze lijn en inje...   \n",
       "3     697920006            pulmonale hypertensie bij systeemziekte   \n",
       "5     697920006       pulmonale hypertensie bij systemische ziekte   \n",
       "...         ...                                                ...   \n",
       "2380  424489006                                        mantouxtest   \n",
       "2381  239987006                                   haperende vinger   \n",
       "2382  434912009                                 bloedsuikerspiegel   \n",
       "2383  395142003                                     allergietesten   \n",
       "2384   62742006                                               berg   \n",
       "\n",
       "                  typeId                    tui  \n",
       "0     900000000000013009          fysiek object  \n",
       "1     900000000000013009             aandoening  \n",
       "2     900000000000013009          fysiek object  \n",
       "3     900000000000013009             aandoening  \n",
       "5     900000000000013009             aandoening  \n",
       "...                  ...                    ...  \n",
       "2380  900000000000013009            verrichting  \n",
       "2381  900000000000013009             aandoening  \n",
       "2382  900000000000013009  waarneembare entiteit  \n",
       "2383  900000000000013009            verrichting  \n",
       "2384  900000000000013009             aandoening  \n",
       "\n",
       "[575476 rows x 4 columns]"
      ]
     },
     "execution_count": 6,
     "metadata": {},
     "output_type": "execute_result"
    }
   ],
   "source": [
    "# Clean synonym table\n",
    "df_synonym_concepts = df_synonyms.copy()\n",
    "df_synonym_concepts = df_synonym_concepts[['conceptId', 'term', 'typeId']]\n",
    "df_synonym_concepts.rename({'term': 'str'}, inplace=True, axis=1)\n",
    "\n",
    "# Add TUI to synonyms\n",
    "df_synonym_concepts['tui'] = df_synonym_concepts.conceptId.map(cui_tui_mapping)\n",
    "# df_synonym_concepts[df_synonym_concepts['tui'].isna()].shape\n",
    "# 67 synonyms without type\n",
    "\n",
    "df_synonym_concepts"
   ]
  },
  {
   "cell_type": "markdown",
   "id": "quiet-advancement",
   "metadata": {},
   "source": [
    "### Combined"
   ]
  },
  {
   "cell_type": "code",
   "execution_count": 7,
   "id": "accessory-bristol",
   "metadata": {},
   "outputs": [
    {
     "name": "stdout",
     "output_type": "stream",
     "text": [
      "Records before dropping duplicates: 850363\n",
      "Records after dropping duplicates: 586523\n"
     ]
    },
    {
     "data": {
      "text/html": [
       "<div>\n",
       "<style scoped>\n",
       "    .dataframe tbody tr th:only-of-type {\n",
       "        vertical-align: middle;\n",
       "    }\n",
       "\n",
       "    .dataframe tbody tr th {\n",
       "        vertical-align: top;\n",
       "    }\n",
       "\n",
       "    .dataframe thead th {\n",
       "        text-align: right;\n",
       "    }\n",
       "</style>\n",
       "<table border=\"1\" class=\"dataframe\">\n",
       "  <thead>\n",
       "    <tr style=\"text-align: right;\">\n",
       "      <th></th>\n",
       "      <th>cui</th>\n",
       "      <th>str</th>\n",
       "      <th>tty</th>\n",
       "      <th>tui</th>\n",
       "      <th>sab</th>\n",
       "    </tr>\n",
       "  </thead>\n",
       "  <tbody>\n",
       "    <tr>\n",
       "      <th>186978</th>\n",
       "      <td>103007</td>\n",
       "      <td>eekhoorn-fibroomvirus</td>\n",
       "      <td>P</td>\n",
       "      <td>organisme</td>\n",
       "      <td>SNOMEDCT_NL</td>\n",
       "    </tr>\n",
       "    <tr>\n",
       "      <th>510540</th>\n",
       "      <td>104001</td>\n",
       "      <td>excisie van laesie van knieschijf</td>\n",
       "      <td>A</td>\n",
       "      <td>verrichting</td>\n",
       "      <td>SNOMEDCT_NL</td>\n",
       "    </tr>\n",
       "    <tr>\n",
       "      <th>110508</th>\n",
       "      <td>104001</td>\n",
       "      <td>excisie van afwijkend weefsel van patella</td>\n",
       "      <td>P</td>\n",
       "      <td>verrichting</td>\n",
       "      <td>SNOMEDCT_NL</td>\n",
       "    </tr>\n",
       "    <tr>\n",
       "      <th>390784</th>\n",
       "      <td>106004</td>\n",
       "      <td>posterieur gebied van handwortel</td>\n",
       "      <td>A</td>\n",
       "      <td>lichaamsstructuur</td>\n",
       "      <td>SNOMEDCT_NL</td>\n",
       "    </tr>\n",
       "    <tr>\n",
       "      <th>390786</th>\n",
       "      <td>106004</td>\n",
       "      <td>posterieur carpaal gebied</td>\n",
       "      <td>A</td>\n",
       "      <td>lichaamsstructuur</td>\n",
       "      <td>SNOMEDCT_NL</td>\n",
       "    </tr>\n",
       "  </tbody>\n",
       "</table>\n",
       "</div>"
      ],
      "text/plain": [
       "           cui                                        str tty  \\\n",
       "186978  103007                      eekhoorn-fibroomvirus   P   \n",
       "510540  104001          excisie van laesie van knieschijf   A   \n",
       "110508  104001  excisie van afwijkend weefsel van patella   P   \n",
       "390784  106004           posterieur gebied van handwortel   A   \n",
       "390786  106004                  posterieur carpaal gebied   A   \n",
       "\n",
       "                      tui          sab  \n",
       "186978          organisme  SNOMEDCT_NL  \n",
       "510540        verrichting  SNOMEDCT_NL  \n",
       "110508        verrichting  SNOMEDCT_NL  \n",
       "390784  lichaamsstructuur  SNOMEDCT_NL  \n",
       "390786  lichaamsstructuur  SNOMEDCT_NL  "
      ]
     },
     "execution_count": 7,
     "metadata": {},
     "output_type": "execute_result"
    }
   ],
   "source": [
    "# Create combined \n",
    "df_all = pd.concat([df_primary_concepts, df_synonym_concepts]).reset_index(drop=True)\n",
    "df_all.rename({'typeId': 'tty', 'conceptId': 'cui'}, inplace=True, axis=1)\n",
    "\n",
    "# Map to MedCAT's P (Preferred term) & A values\n",
    "# See https://github.com/CogStack/MedCAT/blob/master/examples/README.md\n",
    "df_all.tty.replace({'900000000000003001': 'P',\n",
    "                    '900000000000013009': 'A'}, inplace=True)\n",
    "\n",
    "# Use convention in UMLS where default English SNOMED is called SNOMEDCT_US\n",
    "df_all['sab'] = 'SNOMEDCT_NL'\n",
    "df_all = df_all[['cui', 'str', 'tty', 'tui', 'sab']]\n",
    "\n",
    "# Drop synonyms that are the same as primary name\n",
    "print(f'Records before dropping duplicates: {df_all.shape[0]}')\n",
    "df_all_unique = df_all.drop(df_all[(df_all.duplicated(subset=['cui', 'str', 'tui'], keep=False)) & (df_all.tty=='A')].index)\n",
    "print(f'Records after dropping duplicates: {df_all_unique.shape[0]}')\n",
    "\n",
    "# Sort column on cui and tty\n",
    "df_all_unique['cui'] = df_all_unique['cui'].astype(int)\n",
    "df_all_unique.sort_values(['cui', 'tty'], inplace=True)\n",
    "\n",
    "df_all_unique.head()"
   ]
  },
  {
   "cell_type": "markdown",
   "id": "dimensional-judges",
   "metadata": {},
   "source": [
    "### Examples"
   ]
  },
  {
   "cell_type": "code",
   "execution_count": 8,
   "id": "diverse-republic",
   "metadata": {},
   "outputs": [
    {
     "data": {
      "text/html": [
       "<div>\n",
       "<style scoped>\n",
       "    .dataframe tbody tr th:only-of-type {\n",
       "        vertical-align: middle;\n",
       "    }\n",
       "\n",
       "    .dataframe tbody tr th {\n",
       "        vertical-align: top;\n",
       "    }\n",
       "\n",
       "    .dataframe thead th {\n",
       "        text-align: right;\n",
       "    }\n",
       "</style>\n",
       "<table border=\"1\" class=\"dataframe\">\n",
       "  <thead>\n",
       "    <tr style=\"text-align: right;\">\n",
       "      <th></th>\n",
       "      <th>cui</th>\n",
       "      <th>str</th>\n",
       "      <th>tty</th>\n",
       "      <th>tui</th>\n",
       "      <th>sab</th>\n",
       "    </tr>\n",
       "  </thead>\n",
       "  <tbody>\n",
       "    <tr>\n",
       "      <th>637835</th>\n",
       "      <td>86044005</td>\n",
       "      <td>ALS</td>\n",
       "      <td>A</td>\n",
       "      <td>aandoening</td>\n",
       "      <td>SNOMEDCT_NL</td>\n",
       "    </tr>\n",
       "  </tbody>\n",
       "</table>\n",
       "</div>"
      ],
      "text/plain": [
       "             cui  str tty         tui          sab\n",
       "637835  86044005  ALS   A  aandoening  SNOMEDCT_NL"
      ]
     },
     "execution_count": 8,
     "metadata": {},
     "output_type": "execute_result"
    }
   ],
   "source": [
    "df_all_unique[df_all_unique.str == 'ALS']"
   ]
  },
  {
   "cell_type": "code",
   "execution_count": 9,
   "id": "bored-celebrity",
   "metadata": {},
   "outputs": [
    {
     "data": {
      "text/html": [
       "<div>\n",
       "<style scoped>\n",
       "    .dataframe tbody tr th:only-of-type {\n",
       "        vertical-align: middle;\n",
       "    }\n",
       "\n",
       "    .dataframe tbody tr th {\n",
       "        vertical-align: top;\n",
       "    }\n",
       "\n",
       "    .dataframe thead th {\n",
       "        text-align: right;\n",
       "    }\n",
       "</style>\n",
       "<table border=\"1\" class=\"dataframe\">\n",
       "  <thead>\n",
       "    <tr style=\"text-align: right;\">\n",
       "      <th></th>\n",
       "      <th>cui</th>\n",
       "      <th>str</th>\n",
       "      <th>tty</th>\n",
       "      <th>tui</th>\n",
       "      <th>sab</th>\n",
       "    </tr>\n",
       "  </thead>\n",
       "  <tbody>\n",
       "    <tr>\n",
       "      <th>637835</th>\n",
       "      <td>86044005</td>\n",
       "      <td>ALS</td>\n",
       "      <td>A</td>\n",
       "      <td>aandoening</td>\n",
       "      <td>SNOMEDCT_NL</td>\n",
       "    </tr>\n",
       "    <tr>\n",
       "      <th>261252</th>\n",
       "      <td>86044005</td>\n",
       "      <td>amyotrofische laterale sclerose</td>\n",
       "      <td>P</td>\n",
       "      <td>aandoening</td>\n",
       "      <td>SNOMEDCT_NL</td>\n",
       "    </tr>\n",
       "  </tbody>\n",
       "</table>\n",
       "</div>"
      ],
      "text/plain": [
       "             cui                              str tty         tui          sab\n",
       "637835  86044005                              ALS   A  aandoening  SNOMEDCT_NL\n",
       "261252  86044005  amyotrofische laterale sclerose   P  aandoening  SNOMEDCT_NL"
      ]
     },
     "execution_count": 9,
     "metadata": {},
     "output_type": "execute_result"
    }
   ],
   "source": [
    "df_all_unique[df_all_unique.cui == 86044005]"
   ]
  },
  {
   "cell_type": "code",
   "execution_count": 10,
   "id": "imposed-nickname",
   "metadata": {},
   "outputs": [
    {
     "data": {
      "text/html": [
       "<div>\n",
       "<style scoped>\n",
       "    .dataframe tbody tr th:only-of-type {\n",
       "        vertical-align: middle;\n",
       "    }\n",
       "\n",
       "    .dataframe tbody tr th {\n",
       "        vertical-align: top;\n",
       "    }\n",
       "\n",
       "    .dataframe thead th {\n",
       "        text-align: right;\n",
       "    }\n",
       "</style>\n",
       "<table border=\"1\" class=\"dataframe\">\n",
       "  <thead>\n",
       "    <tr style=\"text-align: right;\">\n",
       "      <th></th>\n",
       "      <th>cui</th>\n",
       "      <th>str</th>\n",
       "      <th>tty</th>\n",
       "      <th>tui</th>\n",
       "      <th>sab</th>\n",
       "    </tr>\n",
       "  </thead>\n",
       "  <tbody>\n",
       "    <tr>\n",
       "      <th>849907</th>\n",
       "      <td>93880001</td>\n",
       "      <td>longkanker</td>\n",
       "      <td>A</td>\n",
       "      <td>aandoening</td>\n",
       "      <td>SNOMEDCT_NL</td>\n",
       "    </tr>\n",
       "  </tbody>\n",
       "</table>\n",
       "</div>"
      ],
      "text/plain": [
       "             cui         str tty         tui          sab\n",
       "849907  93880001  longkanker   A  aandoening  SNOMEDCT_NL"
      ]
     },
     "execution_count": 10,
     "metadata": {},
     "output_type": "execute_result"
    }
   ],
   "source": [
    "df_all_unique[df_all_unique.str == 'longkanker']"
   ]
  },
  {
   "cell_type": "code",
   "execution_count": 11,
   "id": "developing-berkeley",
   "metadata": {},
   "outputs": [
    {
     "data": {
      "text/html": [
       "<div>\n",
       "<style scoped>\n",
       "    .dataframe tbody tr th:only-of-type {\n",
       "        vertical-align: middle;\n",
       "    }\n",
       "\n",
       "    .dataframe tbody tr th {\n",
       "        vertical-align: top;\n",
       "    }\n",
       "\n",
       "    .dataframe thead th {\n",
       "        text-align: right;\n",
       "    }\n",
       "</style>\n",
       "<table border=\"1\" class=\"dataframe\">\n",
       "  <thead>\n",
       "    <tr style=\"text-align: right;\">\n",
       "      <th></th>\n",
       "      <th>cui</th>\n",
       "      <th>str</th>\n",
       "      <th>tty</th>\n",
       "      <th>tui</th>\n",
       "      <th>sab</th>\n",
       "    </tr>\n",
       "  </thead>\n",
       "  <tbody>\n",
       "    <tr>\n",
       "      <th>849907</th>\n",
       "      <td>93880001</td>\n",
       "      <td>longkanker</td>\n",
       "      <td>A</td>\n",
       "      <td>aandoening</td>\n",
       "      <td>SNOMEDCT_NL</td>\n",
       "    </tr>\n",
       "    <tr>\n",
       "      <th>76992</th>\n",
       "      <td>93880001</td>\n",
       "      <td>primair maligne neoplasma van long</td>\n",
       "      <td>P</td>\n",
       "      <td>aandoening</td>\n",
       "      <td>SNOMEDCT_NL</td>\n",
       "    </tr>\n",
       "  </tbody>\n",
       "</table>\n",
       "</div>"
      ],
      "text/plain": [
       "             cui                                 str tty         tui  \\\n",
       "849907  93880001                          longkanker   A  aandoening   \n",
       "76992   93880001  primair maligne neoplasma van long   P  aandoening   \n",
       "\n",
       "                sab  \n",
       "849907  SNOMEDCT_NL  \n",
       "76992   SNOMEDCT_NL  "
      ]
     },
     "execution_count": 11,
     "metadata": {},
     "output_type": "execute_result"
    }
   ],
   "source": [
    "df_all_unique[df_all_unique.cui == 93880001]"
   ]
  },
  {
   "cell_type": "code",
   "execution_count": 12,
   "id": "thermal-shoulder",
   "metadata": {},
   "outputs": [
    {
     "data": {
      "text/html": [
       "<div>\n",
       "<style scoped>\n",
       "    .dataframe tbody tr th:only-of-type {\n",
       "        vertical-align: middle;\n",
       "    }\n",
       "\n",
       "    .dataframe tbody tr th {\n",
       "        vertical-align: top;\n",
       "    }\n",
       "\n",
       "    .dataframe thead th {\n",
       "        text-align: right;\n",
       "    }\n",
       "</style>\n",
       "<table border=\"1\" class=\"dataframe\">\n",
       "  <thead>\n",
       "    <tr style=\"text-align: right;\">\n",
       "      <th></th>\n",
       "      <th>cui</th>\n",
       "      <th>str</th>\n",
       "      <th>tty</th>\n",
       "      <th>tui</th>\n",
       "      <th>sab</th>\n",
       "    </tr>\n",
       "  </thead>\n",
       "  <tbody>\n",
       "    <tr>\n",
       "      <th>651747</th>\n",
       "      <td>22298006</td>\n",
       "      <td>hartinfarct</td>\n",
       "      <td>A</td>\n",
       "      <td>aandoening</td>\n",
       "      <td>SNOMEDCT_NL</td>\n",
       "    </tr>\n",
       "    <tr>\n",
       "      <th>651757</th>\n",
       "      <td>22298006</td>\n",
       "      <td>MI</td>\n",
       "      <td>A</td>\n",
       "      <td>aandoening</td>\n",
       "      <td>SNOMEDCT_NL</td>\n",
       "    </tr>\n",
       "    <tr>\n",
       "      <th>651763</th>\n",
       "      <td>22298006</td>\n",
       "      <td>hartaanval</td>\n",
       "      <td>A</td>\n",
       "      <td>aandoening</td>\n",
       "      <td>SNOMEDCT_NL</td>\n",
       "    </tr>\n",
       "    <tr>\n",
       "      <th>172002</th>\n",
       "      <td>22298006</td>\n",
       "      <td>myocardinfarct</td>\n",
       "      <td>P</td>\n",
       "      <td>aandoening</td>\n",
       "      <td>SNOMEDCT_NL</td>\n",
       "    </tr>\n",
       "  </tbody>\n",
       "</table>\n",
       "</div>"
      ],
      "text/plain": [
       "             cui             str tty         tui          sab\n",
       "651747  22298006     hartinfarct   A  aandoening  SNOMEDCT_NL\n",
       "651757  22298006              MI   A  aandoening  SNOMEDCT_NL\n",
       "651763  22298006      hartaanval   A  aandoening  SNOMEDCT_NL\n",
       "172002  22298006  myocardinfarct   P  aandoening  SNOMEDCT_NL"
      ]
     },
     "execution_count": 12,
     "metadata": {},
     "output_type": "execute_result"
    }
   ],
   "source": [
    "df_all_unique[df_all_unique.cui == 22298006]"
   ]
  },
  {
   "cell_type": "code",
   "execution_count": 13,
   "id": "numeric-combining",
   "metadata": {},
   "outputs": [
    {
     "data": {
      "text/html": [
       "<div>\n",
       "<style scoped>\n",
       "    .dataframe tbody tr th:only-of-type {\n",
       "        vertical-align: middle;\n",
       "    }\n",
       "\n",
       "    .dataframe tbody tr th {\n",
       "        vertical-align: top;\n",
       "    }\n",
       "\n",
       "    .dataframe thead th {\n",
       "        text-align: right;\n",
       "    }\n",
       "</style>\n",
       "<table border=\"1\" class=\"dataframe\">\n",
       "  <thead>\n",
       "    <tr style=\"text-align: right;\">\n",
       "      <th></th>\n",
       "      <th>cui</th>\n",
       "      <th>str</th>\n",
       "      <th>tty</th>\n",
       "      <th>tui</th>\n",
       "      <th>sab</th>\n",
       "    </tr>\n",
       "  </thead>\n",
       "  <tbody>\n",
       "    <tr>\n",
       "      <th>157795</th>\n",
       "      <td>387381009</td>\n",
       "      <td>methotrexaat</td>\n",
       "      <td>P</td>\n",
       "      <td>substantie</td>\n",
       "      <td>SNOMEDCT_NL</td>\n",
       "    </tr>\n",
       "  </tbody>\n",
       "</table>\n",
       "</div>"
      ],
      "text/plain": [
       "              cui           str tty         tui          sab\n",
       "157795  387381009  methotrexaat   P  substantie  SNOMEDCT_NL"
      ]
     },
     "execution_count": 13,
     "metadata": {},
     "output_type": "execute_result"
    }
   ],
   "source": [
    "df_all_unique[df_all_unique.str == 'methotrexaat']"
   ]
  },
  {
   "cell_type": "code",
   "execution_count": 14,
   "id": "widespread-juvenile",
   "metadata": {},
   "outputs": [
    {
     "data": {
      "text/html": [
       "<div>\n",
       "<style scoped>\n",
       "    .dataframe tbody tr th:only-of-type {\n",
       "        vertical-align: middle;\n",
       "    }\n",
       "\n",
       "    .dataframe tbody tr th {\n",
       "        vertical-align: top;\n",
       "    }\n",
       "\n",
       "    .dataframe thead th {\n",
       "        text-align: right;\n",
       "    }\n",
       "</style>\n",
       "<table border=\"1\" class=\"dataframe\">\n",
       "  <thead>\n",
       "    <tr style=\"text-align: right;\">\n",
       "      <th></th>\n",
       "      <th>cui</th>\n",
       "      <th>str</th>\n",
       "      <th>tty</th>\n",
       "      <th>tui</th>\n",
       "      <th>sab</th>\n",
       "    </tr>\n",
       "  </thead>\n",
       "  <tbody>\n",
       "    <tr>\n",
       "      <th>621163</th>\n",
       "      <td>387381009</td>\n",
       "      <td>MTX</td>\n",
       "      <td>A</td>\n",
       "      <td>substantie</td>\n",
       "      <td>SNOMEDCT_NL</td>\n",
       "    </tr>\n",
       "    <tr>\n",
       "      <th>157795</th>\n",
       "      <td>387381009</td>\n",
       "      <td>methotrexaat</td>\n",
       "      <td>P</td>\n",
       "      <td>substantie</td>\n",
       "      <td>SNOMEDCT_NL</td>\n",
       "    </tr>\n",
       "  </tbody>\n",
       "</table>\n",
       "</div>"
      ],
      "text/plain": [
       "              cui           str tty         tui          sab\n",
       "621163  387381009           MTX   A  substantie  SNOMEDCT_NL\n",
       "157795  387381009  methotrexaat   P  substantie  SNOMEDCT_NL"
      ]
     },
     "execution_count": 14,
     "metadata": {},
     "output_type": "execute_result"
    }
   ],
   "source": [
    "df_all_unique[df_all_unique.cui == 387381009]"
   ]
  },
  {
   "cell_type": "markdown",
   "id": "constant-marble",
   "metadata": {},
   "source": [
    "## Evaluation of SNOMED types"
   ]
  },
  {
   "cell_type": "markdown",
   "id": "logical-history",
   "metadata": {},
   "source": [
    "Find which types are present, and then manually check the performance of the types by looking at a set of cardiology letters."
   ]
  },
  {
   "cell_type": "code",
   "execution_count": 15,
   "id": "activated-metro",
   "metadata": {},
   "outputs": [
    {
     "data": {
      "text/plain": [
       "aandoening                       185873\n",
       "verrichting                      120781\n",
       "lichaamsstructuur                100172\n",
       "bevinding                         67630\n",
       "organisme                         24325\n",
       "fysiek object                     20664\n",
       "situatie                          12096\n",
       "substantie                        10734\n",
       "afwijkende morfologie             10231\n",
       "waarneembare entiteit              6126\n",
       "regime/therapie                    5298\n",
       "monster                            3917\n",
       "gebeurtenis                        3603\n",
       "beroep                             3454\n",
       "kwalificatiewaarde                 3015\n",
       "cel                                1624\n",
       "omgeving                           1622\n",
       "celstructuur                       1118\n",
       "farmaceutisch product               956\n",
       "persoon                             686\n",
       "eigenschap                          558\n",
       "gegevensobject                      473\n",
       "metadata                            402\n",
       "fysische kracht                     287\n",
       "religie/filosofie                   260\n",
       "attribuut                           142\n",
       "foundation metadata concept         117\n",
       "product                              98\n",
       "beoordelingsschaal                   58\n",
       "farmaceutisch product en vorm        35\n",
       "lifestyle                            26\n",
       "sociaal concept                      25\n",
       "ras                                  19\n",
       "inactief concept                     13\n",
       "procedure                            10\n",
       "tumorgradering                        8\n",
       "disorder                              6\n",
       "navigatieconcept                      4\n",
       "farmaceutische vorm                   3\n",
       "medicinal product                     2\n",
       "physical object                       2\n",
       "gradering                             1\n",
       "omgeving/locatie                      1\n",
       "speciaal concept                      1\n",
       "Name: tui, dtype: int64"
      ]
     },
     "execution_count": 15,
     "metadata": {},
     "output_type": "execute_result"
    }
   ],
   "source": [
    "df_all_unique.tui.value_counts()"
   ]
  },
  {
   "cell_type": "code",
   "execution_count": 16,
   "id": "motivated-speaking",
   "metadata": {},
   "outputs": [
    {
     "data": {
      "text/plain": [
       "586523"
      ]
     },
     "execution_count": 16,
     "metadata": {},
     "output_type": "execute_result"
    }
   ],
   "source": [
    "# Total number of concepts\n",
    "df_all_unique.shape[0]"
   ]
  },
  {
   "cell_type": "code",
   "execution_count": 17,
   "id": "persistent-caution",
   "metadata": {},
   "outputs": [
    {
     "data": {
      "text/plain": [
       "(0, 5)"
      ]
     },
     "execution_count": 17,
     "metadata": {},
     "output_type": "execute_result"
    }
   ],
   "source": [
    "# Number of primary concepts\n",
    "df_all_unique[df_all_unique.tty == 'PN'].shape"
   ]
  },
  {
   "cell_type": "code",
   "execution_count": 18,
   "id": "detected-holiday",
   "metadata": {},
   "outputs": [
    {
     "data": {
      "text/plain": [
       "(0, 5)"
      ]
     },
     "execution_count": 18,
     "metadata": {},
     "output_type": "execute_result"
    }
   ],
   "source": [
    "# Number of synonyms\n",
    "df_all_unique[df_all_unique.tty == 'SY'].shape"
   ]
  },
  {
   "cell_type": "markdown",
   "id": "crazy-belfast",
   "metadata": {},
   "source": [
    "| tui | summary | good examples | bad examples |\n",
    "| :- | :- | :- | :-|\n",
    "|aandoening |good|hypertensie, boezemfibrilleren, av-blok| |\n",
    "|monster|good|trombocyten, leukocyten,basofiele granulocyten||\n",
    "|regime/therapie|good|fysiotherapie, hartrevalidatie, therapie||\n",
    "|waarneembare entities|good|leeftijd, bloeddruk, hartas, LVEF||\n",
    "|bevinding|good|koorts, zwelling, tachycardie||\n",
    "|attribuut|good|bij, na||\n",
    "|kwalificatiewaarde|good|ontslag, beloop, gestaakt, geen||\n",
    "|afwijkende morfologie|good|thermisch letsel, blaar, luxatie||\n",
    "|cel|good, but rare|erythrocytes||\n",
    "|gegevensobject|good, but rare| Echocardiogram, operatieverslag||\n",
    "|sociaal concept|good, but rare|familie||\n",
    "|situatie|good, but includes negation|geen pijn, geen dispneu, geen hoesten||\n",
    "|verrichting |decent|lokale anesthesie, lichamelijk onderzoek, palpatie|erg (elektroretinografie), weken, post (peritoneale transfer van eicel en sperma), beleid (management)|\n",
    "|substantie|decent|nebivolol, amlodipine, ceftriaxon|wortel, PM (fijnstof)|\n",
    "|omgeving|decent|ziekenhuis, polikliniek, huis, afdeling cardiologie, afdeling fysiologie|meer, stroop, plaats|\n",
    "|lichaamsstructuur|decent|pols, aortaklep, AV-knoop|mid (mesioincisodistale vlakken van gebitselement)|\n",
    "|persoon|decent|patient, dochter, vader|bekende (kennis)|\n",
    "|fysische kracht|decent, but rare|druk||\n",
    "|fysiek object|discutable, but rare|pacemaker|verband|\n",
    "|beroep|bad||rechter, belang (behanger), herkende (werkende)|\n",
    "|metadata|bad||beeld|\n",
    "|gebeurtenis|bad, only 1 term matched||het (hoog energetisch trauma)|\n",
    "\n",
    "Terms that were never found: omgeving/locatie, organisme, physical object: fout, religie/filosofie, product, disorder, navigatieconcept, lifestyle, procedure, gradering, tumorgradering, beoordelingsschaal, inactief concept, speciaal concept, ras, foundation metadata concept, physical object, eigenschap, celstructuur"
   ]
  },
  {
   "cell_type": "code",
   "execution_count": 19,
   "id": "backed-syntax",
   "metadata": {},
   "outputs": [],
   "source": [
    "# Define list of relevant terms for general use\n",
    "relevant_tuis = ['aandoening',\n",
    "                'monster',\n",
    "                'regime/therapie',\n",
    "                'bevinding',\n",
    "                'afwijkende morfologie',\n",
    "                'cel',\n",
    "                'gegevensobject',\n",
    "                'verrichting',\n",
    "                'substantie',\n",
    "                'lichaamsstructuur']"
   ]
  },
  {
   "cell_type": "code",
   "execution_count": 20,
   "id": "secure-genius",
   "metadata": {},
   "outputs": [
    {
     "data": {
      "text/plain": [
       "aandoening               185873\n",
       "verrichting              120781\n",
       "lichaamsstructuur        100172\n",
       "bevinding                 67630\n",
       "substantie                10734\n",
       "afwijkende morfologie     10231\n",
       "regime/therapie            5298\n",
       "monster                    3917\n",
       "cel                        1624\n",
       "gegevensobject              473\n",
       "Name: tui, dtype: int64"
      ]
     },
     "execution_count": 20,
     "metadata": {},
     "output_type": "execute_result"
    }
   ],
   "source": [
    "df_all_unique[df_all_unique.tui.isin(relevant_tuis)].tui.value_counts()"
   ]
  },
  {
   "cell_type": "code",
   "execution_count": 21,
   "id": "adapted-norfolk",
   "metadata": {},
   "outputs": [
    {
     "data": {
      "text/plain": [
       "506733"
      ]
     },
     "execution_count": 21,
     "metadata": {},
     "output_type": "execute_result"
    }
   ],
   "source": [
    "df_all_unique[df_all_unique.tui.isin(relevant_tuis)].shape[0]"
   ]
  },
  {
   "cell_type": "markdown",
   "id": "fabulous-latin",
   "metadata": {},
   "source": [
    "## Output"
   ]
  },
  {
   "cell_type": "code",
   "execution_count": 22,
   "id": "median-discount",
   "metadata": {},
   "outputs": [],
   "source": [
    "# Save to file\n",
    "df_all_unique.to_csv('04_ConceptDB/snomedct-dutch_v1.2-unfiltered.csv', index=False)\n",
    "df_all_unique[df_all_unique.tui.isin(relevant_tuis)].to_csv('04_ConceptDB/snomedct-dutch_v1.2.csv', index=False)"
   ]
  }
 ],
 "metadata": {
  "kernelspec": {
   "display_name": "Python 3 (ipykernel)",
   "language": "python",
   "name": "python3"
  },
  "language_info": {
   "codemirror_mode": {
    "name": "ipython",
    "version": 3
   },
   "file_extension": ".py",
   "mimetype": "text/x-python",
   "name": "python",
   "nbconvert_exporter": "python",
   "pygments_lexer": "ipython3",
   "version": "3.8.11"
  }
 },
 "nbformat": 4,
 "nbformat_minor": 5
}
