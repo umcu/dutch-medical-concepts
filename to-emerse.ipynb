{
 "cells": [
  {
   "cell_type": "code",
   "execution_count": 65,
   "id": "7cdf4ae5",
   "metadata": {},
   "outputs": [],
   "source": [
    "import pandas as pd"
   ]
  },
  {
   "cell_type": "code",
   "execution_count": 66,
   "id": "23df7da3",
   "metadata": {},
   "outputs": [],
   "source": [
    "input_file = '04_ConceptDB/umls-dutch_v1.10_with_drugs.csv'\n",
    "# output_file = '04_ConceptDB/emerse-synonyms-dutch-umls.csv'\n",
    "output_file = '/Users/stan3/Desktop/emerse-synonyms-dutch-umls.csv'"
   ]
  },
  {
   "cell_type": "code",
   "execution_count": 67,
   "id": "fbaca771",
   "metadata": {},
   "outputs": [],
   "source": [
    "input_df = pd.read_csv(input_file)"
   ]
  },
  {
   "cell_type": "code",
   "execution_count": 68,
   "id": "b9917d73",
   "metadata": {},
   "outputs": [
    {
     "name": "stdout",
     "output_type": "stream",
     "text": [
      "824112\n",
      "821094\n"
     ]
    },
    {
     "data": {
      "text/html": [
       "<div>\n",
       "<style scoped>\n",
       "    .dataframe tbody tr th:only-of-type {\n",
       "        vertical-align: middle;\n",
       "    }\n",
       "\n",
       "    .dataframe tbody tr th {\n",
       "        vertical-align: top;\n",
       "    }\n",
       "\n",
       "    .dataframe thead th {\n",
       "        text-align: right;\n",
       "    }\n",
       "</style>\n",
       "<table border=\"1\" class=\"dataframe\">\n",
       "  <thead>\n",
       "    <tr style=\"text-align: right;\">\n",
       "      <th></th>\n",
       "      <th>cui</th>\n",
       "      <th>name</th>\n",
       "      <th>type</th>\n",
       "    </tr>\n",
       "  </thead>\n",
       "  <tbody>\n",
       "    <tr>\n",
       "      <th>0</th>\n",
       "      <td>C0000039</td>\n",
       "      <td>1,2-dipalmitoylphosphatidylcholine</td>\n",
       "      <td>1</td>\n",
       "    </tr>\n",
       "    <tr>\n",
       "      <th>1</th>\n",
       "      <td>C0000097</td>\n",
       "      <td>methyl-fenyltetrahydropyridine</td>\n",
       "      <td>1</td>\n",
       "    </tr>\n",
       "    <tr>\n",
       "      <th>2</th>\n",
       "      <td>C0000097</td>\n",
       "      <td>1-methyl-4-phenyl-1,2,3,6-tetrahydropyridine</td>\n",
       "      <td>1</td>\n",
       "    </tr>\n",
       "    <tr>\n",
       "      <th>3</th>\n",
       "      <td>C0000097</td>\n",
       "      <td>MPTP</td>\n",
       "      <td>1</td>\n",
       "    </tr>\n",
       "    <tr>\n",
       "      <th>4</th>\n",
       "      <td>C0000215</td>\n",
       "      <td>2,4,5-trichloorfenoxyazijnzuur</td>\n",
       "      <td>1</td>\n",
       "    </tr>\n",
       "  </tbody>\n",
       "</table>\n",
       "</div>"
      ],
      "text/plain": [
       "        cui                                          name  type\n",
       "0  C0000039            1,2-dipalmitoylphosphatidylcholine     1\n",
       "1  C0000097                methyl-fenyltetrahydropyridine     1\n",
       "2  C0000097  1-methyl-4-phenyl-1,2,3,6-tetrahydropyridine     1\n",
       "3  C0000097                                          MPTP     1\n",
       "4  C0000215                2,4,5-trichloorfenoxyazijnzuur     1"
      ]
     },
     "execution_count": 68,
     "metadata": {},
     "output_type": "execute_result"
    }
   ],
   "source": [
    "output_df = input_df[['cui', 'name']].copy()\n",
    "output_df['type'] = 1\n",
    "print(len(output_df))\n",
    "output_df = output_df[output_df['name'].str.len() <= 150].copy()\n",
    "print(len(output_df))\n",
    "output_df.head()"
   ]
  },
  {
   "cell_type": "code",
   "execution_count": 69,
   "id": "26c178cb",
   "metadata": {},
   "outputs": [],
   "source": [
    "output_df.to_csv(output_file, index=False, header=False, sep='\\t')"
   ]
  },
  {
   "cell_type": "markdown",
   "id": "fdcce885",
   "metadata": {},
   "source": [
    "Add metadata:\n",
    "\n",
    "```\n",
    "emerse_synonyms_metadata\tname\tDutch UMLS names\n",
    "emerse_synonyms_metadata\tdescription\tContains names from several ontologies in UMLS, as well as SNOMED-CT.\n",
    "emerse_synonyms_metadata\turl\thttps://github.com/umcu/dutch-umls\n",
    "emerse_synonyms_metadata\tlast_updated\t26/09/2022\n",
    "```"
   ]
  },
  {
   "cell_type": "code",
   "execution_count": null,
   "id": "d3af4eb5",
   "metadata": {},
   "outputs": [],
   "source": []
  }
 ],
 "metadata": {
  "kernelspec": {
   "display_name": "Python 3 (ipykernel)",
   "language": "python",
   "name": "python3"
  },
  "language_info": {
   "codemirror_mode": {
    "name": "ipython",
    "version": 3
   },
   "file_extension": ".py",
   "mimetype": "text/x-python",
   "name": "python",
   "nbconvert_exporter": "python",
   "pygments_lexer": "ipython3",
   "version": "3.9.12"
  }
 },
 "nbformat": 4,
 "nbformat_minor": 5
}
