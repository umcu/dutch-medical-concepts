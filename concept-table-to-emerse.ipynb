{
 "cells": [
  {
   "cell_type": "markdown",
   "id": "068f707c",
   "metadata": {},
   "source": [
    "# Concept table to EMERSE\n",
    "This notebook transforms a concept table in the MedCAT format (see https://github.com/CogStack/MedCAT/tree/master/examples) to the synonym format for EMERSE (see https://project-emerse.org/documentation/administrator_guide.html#truepreparing-a-synonyms-file)"
   ]
  },
  {
   "cell_type": "code",
   "execution_count": null,
   "id": "7cdf4ae5",
   "metadata": {},
   "outputs": [],
   "source": [
    "import pandas as pd\n",
    "from pathlib import Path\n",
    "\n",
    "input_file = Path('04_ConceptDB') / 'umls-dutch_v1.11-beta_with_drugs.csv'\n",
    "output_file =  Path('04_ConceptDB') / 'emerse-synonyms-umls-dutch_v1.11-beta_with_drugs.csv'"
   ]
  },
  {
   "cell_type": "code",
   "execution_count": null,
   "id": "fbaca771",
   "metadata": {},
   "outputs": [],
   "source": [
    "input_df = pd.read_csv(input_file, dtype='str')"
   ]
  },
  {
   "cell_type": "code",
   "execution_count": null,
   "id": "b9917d73",
   "metadata": {},
   "outputs": [],
   "source": [
    "output_df = input_df[['cui', 'name']].copy()\n",
    "output_df['type'] = 1\n",
    "print(len(output_df))\n",
    "\n",
    "# Remove long strings\n",
    "output_df = output_df[output_df['name'].str.len() <= 150].copy()\n",
    "print(len(output_df))\n",
    "output_df.head()"
   ]
  },
  {
   "cell_type": "code",
   "execution_count": null,
   "id": "04adf0cf",
   "metadata": {},
   "outputs": [],
   "source": [
    "metadata = \"\"\"emerse_synonyms_metadata\tname\tDutch UMLS names\n",
    "emerse_synonyms_metadata\tdescription\tContains Dutch MeSH, MedDRA, ICD10 and ICPC names from UMLS, as well as Dutch SNOMED-CT and English drug names from RXNORM, DRUGBANK and ATC.\n",
    "emerse_synonyms_metadata\turl\thttps://github.com/umcu/dutch-medical-entities/\n",
    "emerse_synonyms_metadata\tlast_updated\t02/11/2022\n",
    "\"\"\"\n",
    "print(metadata)"
   ]
  },
  {
   "cell_type": "code",
   "execution_count": null,
   "id": "d3af4eb5",
   "metadata": {},
   "outputs": [],
   "source": [
    "with open(output_file, 'w') as f:\n",
    "    f.write(metadata)\n",
    "output_df.to_csv(output_file,  mode='a', index=False, header=False, sep='\\t')"
   ]
  }
 ],
 "metadata": {
  "kernelspec": {
   "display_name": "Python 3 (ipykernel)",
   "language": "python",
   "name": "python3"
  },
  "language_info": {
   "codemirror_mode": {
    "name": "ipython",
    "version": 3
   },
   "file_extension": ".py",
   "mimetype": "text/x-python",
   "name": "python",
   "nbconvert_exporter": "python",
   "pygments_lexer": "ipython3",
   "version": "3.10.6"
  }
 },
 "nbformat": 4,
 "nbformat_minor": 5
}
